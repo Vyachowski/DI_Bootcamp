{
 "cells": [
  {
   "cell_type": "markdown",
   "id": "53785708",
   "metadata": {},
   "source": [
    "## Intro"
   ]
  },
  {
   "cell_type": "code",
   "execution_count": 3,
   "id": "9b3f92dc",
   "metadata": {},
   "outputs": [],
   "source": [
    "import numpy as np # Numerical Python"
   ]
  },
  {
   "cell_type": "code",
   "execution_count": 4,
   "id": "b9777ef8",
   "metadata": {},
   "outputs": [],
   "source": [
    "array = np.array([1,2,3,4,5]) # numpy array "
   ]
  },
  {
   "cell_type": "code",
   "execution_count": 5,
   "id": "cc6d41a8",
   "metadata": {},
   "outputs": [
    {
     "data": {
      "text/plain": [
       "array([1, 2, 3, 4, 5])"
      ]
     },
     "execution_count": 5,
     "metadata": {},
     "output_type": "execute_result"
    }
   ],
   "source": [
    "array"
   ]
  },
  {
   "cell_type": "code",
   "execution_count": 6,
   "id": "0f6f7231",
   "metadata": {},
   "outputs": [],
   "source": [
    "array2 = np.array([1,2,3,4,5])"
   ]
  },
  {
   "cell_type": "code",
   "execution_count": 7,
   "id": "fad0038d",
   "metadata": {},
   "outputs": [
    {
     "data": {
      "text/plain": [
       "array([ 1,  4,  9, 16, 25])"
      ]
     },
     "execution_count": 7,
     "metadata": {},
     "output_type": "execute_result"
    }
   ],
   "source": [
    "array * array2"
   ]
  },
  {
   "cell_type": "markdown",
   "id": "a29a71e1",
   "metadata": {},
   "source": [
    "## Numpy array attributes"
   ]
  },
  {
   "cell_type": "code",
   "execution_count": 11,
   "id": "c45f337b",
   "metadata": {},
   "outputs": [
    {
     "data": {
      "text/plain": [
       "1"
      ]
     },
     "execution_count": 11,
     "metadata": {},
     "output_type": "execute_result"
    }
   ],
   "source": [
    "array.ndim # number of dimensions"
   ]
  },
  {
   "cell_type": "code",
   "execution_count": 9,
   "id": "837b9221",
   "metadata": {},
   "outputs": [],
   "source": [
    "two_dim_array = np.array([[1,2,3,4,5], [1,2,3,4,5], [1,2,3,4,5]])"
   ]
  },
  {
   "cell_type": "code",
   "execution_count": 10,
   "id": "8d8acb5a",
   "metadata": {},
   "outputs": [
    {
     "data": {
      "text/plain": [
       "array([[1, 2, 3, 4, 5],\n",
       "       [1, 2, 3, 4, 5],\n",
       "       [1, 2, 3, 4, 5]])"
      ]
     },
     "execution_count": 10,
     "metadata": {},
     "output_type": "execute_result"
    }
   ],
   "source": [
    "two_dim_array"
   ]
  },
  {
   "cell_type": "code",
   "execution_count": 12,
   "id": "38a829c4",
   "metadata": {},
   "outputs": [
    {
     "data": {
      "text/plain": [
       "2"
      ]
     },
     "execution_count": 12,
     "metadata": {},
     "output_type": "execute_result"
    }
   ],
   "source": [
    "two_dim_array.ndim"
   ]
  },
  {
   "cell_type": "code",
   "execution_count": 13,
   "id": "23508755",
   "metadata": {},
   "outputs": [
    {
     "data": {
      "text/plain": [
       "(5,)"
      ]
     },
     "execution_count": 13,
     "metadata": {},
     "output_type": "execute_result"
    }
   ],
   "source": [
    "# shape - amount of rows/colums etc. \n",
    "array.shape"
   ]
  },
  {
   "cell_type": "code",
   "execution_count": 14,
   "id": "44e9a5b0",
   "metadata": {},
   "outputs": [
    {
     "data": {
      "text/plain": [
       "(3, 5)"
      ]
     },
     "execution_count": 14,
     "metadata": {},
     "output_type": "execute_result"
    }
   ],
   "source": [
    "two_dim_array.shape"
   ]
  },
  {
   "cell_type": "code",
   "execution_count": 15,
   "id": "8ee3698c",
   "metadata": {},
   "outputs": [
    {
     "data": {
      "text/plain": [
       "15"
      ]
     },
     "execution_count": 15,
     "metadata": {},
     "output_type": "execute_result"
    }
   ],
   "source": [
    "# size\n",
    "two_dim_array.size"
   ]
  },
  {
   "cell_type": "code",
   "execution_count": 16,
   "id": "e5cfa40e",
   "metadata": {},
   "outputs": [
    {
     "data": {
      "text/plain": [
       "dtype('int64')"
      ]
     },
     "execution_count": 16,
     "metadata": {},
     "output_type": "execute_result"
    }
   ],
   "source": [
    "# data type\n",
    "two_dim_array.dtype"
   ]
  },
  {
   "cell_type": "markdown",
   "id": "958983c2",
   "metadata": {},
   "source": [
    "### converting array to different type"
   ]
  },
  {
   "cell_type": "code",
   "execution_count": 17,
   "id": "3c65d641",
   "metadata": {},
   "outputs": [],
   "source": [
    "float_array = array.astype('float16')"
   ]
  },
  {
   "cell_type": "code",
   "execution_count": 18,
   "id": "936e2a8b",
   "metadata": {},
   "outputs": [
    {
     "data": {
      "text/plain": [
       "dtype('float16')"
      ]
     },
     "execution_count": 18,
     "metadata": {},
     "output_type": "execute_result"
    }
   ],
   "source": [
    "float_array.dtype"
   ]
  },
  {
   "cell_type": "code",
   "execution_count": 19,
   "id": "b48ea6dd",
   "metadata": {},
   "outputs": [
    {
     "data": {
      "text/plain": [
       "array([1., 2., 3., 4., 5.], dtype=float16)"
      ]
     },
     "execution_count": 19,
     "metadata": {},
     "output_type": "execute_result"
    }
   ],
   "source": [
    "float_array"
   ]
  },
  {
   "cell_type": "markdown",
   "id": "aea75cf8",
   "metadata": {},
   "source": [
    "## creating arrays"
   ]
  },
  {
   "cell_type": "code",
   "execution_count": 20,
   "id": "f8f190ea",
   "metadata": {},
   "outputs": [],
   "source": [
    "my_array = np.arange(1, 10)"
   ]
  },
  {
   "cell_type": "code",
   "execution_count": 21,
   "id": "ef77b7ef",
   "metadata": {},
   "outputs": [
    {
     "data": {
      "text/plain": [
       "array([1, 2, 3, 4, 5, 6, 7, 8, 9])"
      ]
     },
     "execution_count": 21,
     "metadata": {},
     "output_type": "execute_result"
    }
   ],
   "source": [
    "my_array"
   ]
  },
  {
   "cell_type": "markdown",
   "id": "f70976bb",
   "metadata": {},
   "source": [
    "## Exercises"
   ]
  },
  {
   "cell_type": "code",
   "execution_count": 25,
   "id": "b6b16b93",
   "metadata": {},
   "outputs": [],
   "source": [
    "# 1. Creating NumPy arrays : Create a 1D NumPy array with the numbers from 10 to 20 (inclusive), and print it.\n",
    "one_dim_array = np.arange(10, 21)"
   ]
  },
  {
   "cell_type": "code",
   "execution_count": 26,
   "id": "7b74f60b",
   "metadata": {},
   "outputs": [
    {
     "data": {
      "text/plain": [
       "array([10, 11, 12, 13, 14, 15, 16, 17, 18, 19, 20])"
      ]
     },
     "execution_count": 26,
     "metadata": {},
     "output_type": "execute_result"
    }
   ],
   "source": [
    "one_dim_array"
   ]
  },
  {
   "cell_type": "code",
   "execution_count": 27,
   "id": "588ab337",
   "metadata": {},
   "outputs": [],
   "source": [
    "# 2. Array properties: For the array you created, print its number of dimensions (ndim), shape (shape), number of elements (size), and data type (dtype)."
   ]
  },
  {
   "cell_type": "code",
   "execution_count": 29,
   "id": "c68769b8",
   "metadata": {},
   "outputs": [
    {
     "data": {
      "text/plain": [
       "1"
      ]
     },
     "execution_count": 29,
     "metadata": {},
     "output_type": "execute_result"
    }
   ],
   "source": [
    "one_dim_array.ndim"
   ]
  },
  {
   "cell_type": "code",
   "execution_count": 30,
   "id": "fb2debb3",
   "metadata": {},
   "outputs": [
    {
     "data": {
      "text/plain": [
       "(11,)"
      ]
     },
     "execution_count": 30,
     "metadata": {},
     "output_type": "execute_result"
    }
   ],
   "source": [
    "one_dim_array.shape"
   ]
  },
  {
   "cell_type": "code",
   "execution_count": 31,
   "id": "15e3da9c",
   "metadata": {},
   "outputs": [
    {
     "data": {
      "text/plain": [
       "11"
      ]
     },
     "execution_count": 31,
     "metadata": {},
     "output_type": "execute_result"
    }
   ],
   "source": [
    "one_dim_array.size"
   ]
  },
  {
   "cell_type": "code",
   "execution_count": 32,
   "id": "a0a45729",
   "metadata": {},
   "outputs": [
    {
     "data": {
      "text/plain": [
       "dtype('int64')"
      ]
     },
     "execution_count": 32,
     "metadata": {},
     "output_type": "execute_result"
    }
   ],
   "source": [
    "one_dim_array.dtype"
   ]
  },
  {
   "cell_type": "code",
   "execution_count": 33,
   "id": "d028c60a",
   "metadata": {},
   "outputs": [],
   "source": [
    "# 3\n",
    "one_dim_array_float = np.arange(10, 21, dtype='float16')"
   ]
  },
  {
   "cell_type": "code",
   "execution_count": 34,
   "id": "c8a88798",
   "metadata": {},
   "outputs": [
    {
     "data": {
      "text/plain": [
       "array([10., 11., 12., 13., 14., 15., 16., 17., 18., 19., 20.],\n",
       "      dtype=float16)"
      ]
     },
     "execution_count": 34,
     "metadata": {},
     "output_type": "execute_result"
    }
   ],
   "source": [
    "one_dim_array_float"
   ]
  },
  {
   "cell_type": "code",
   "execution_count": 35,
   "id": "f64c3905",
   "metadata": {},
   "outputs": [
    {
     "data": {
      "text/plain": [
       "array([20, 22, 24, 26, 28, 30, 32, 34, 36, 38, 40])"
      ]
     },
     "execution_count": 35,
     "metadata": {},
     "output_type": "execute_result"
    }
   ],
   "source": [
    "# 4\n",
    "one_dim_array * 2"
   ]
  },
  {
   "cell_type": "code",
   "execution_count": null,
   "id": "33fc81a3",
   "metadata": {},
   "outputs": [],
   "source": []
  }
 ],
 "metadata": {
  "kernelspec": {
   "display_name": "Python 3 (ipykernel)",
   "language": "python",
   "name": "python3"
  },
  "language_info": {
   "codemirror_mode": {
    "name": "ipython",
    "version": 3
   },
   "file_extension": ".py",
   "mimetype": "text/x-python",
   "name": "python",
   "nbconvert_exporter": "python",
   "pygments_lexer": "ipython3",
   "version": "3.11.0"
  }
 },
 "nbformat": 4,
 "nbformat_minor": 5
}
