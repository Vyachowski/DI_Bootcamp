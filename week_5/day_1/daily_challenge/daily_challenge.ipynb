{
 "cells": [
  {
   "cell_type": "code",
   "execution_count": 2,
   "id": "a1f21306-e034-456f-98cd-edc1a45524c4",
   "metadata": {},
   "outputs": [],
   "source": [
    "import numpy as np"
   ]
  },
  {
   "cell_type": "markdown",
   "id": "efabbad3-81fd-4aa8-a3cb-b813f7122686",
   "metadata": {},
   "source": [
    "# Matrix Manipulation"
   ]
  },
  {
   "cell_type": "code",
   "execution_count": 3,
   "id": "bab40bcc-f302-4cdd-ac0e-8b8447812ded",
   "metadata": {},
   "outputs": [],
   "source": [
    "data = np.array(np.random.randint(1, 100, size=25)).reshape(5,5)"
   ]
  },
  {
   "cell_type": "code",
   "execution_count": 4,
   "id": "127057dc-2100-4994-8dda-35522e76f71f",
   "metadata": {},
   "outputs": [
    {
     "data": {
      "text/plain": [
       "array([[14, 48, 90, 42, 11],\n",
       "       [76,  2, 74, 10, 42],\n",
       "       [44, 22, 46, 75, 45],\n",
       "       [57, 55, 45, 90, 28],\n",
       "       [26, 71, 18, 42, 31]])"
      ]
     },
     "execution_count": 4,
     "metadata": {},
     "output_type": "execute_result"
    }
   ],
   "source": [
    "data"
   ]
  },
  {
   "cell_type": "code",
   "execution_count": 5,
   "id": "c776b767-8805-4fa4-abc3-d941862fe1ae",
   "metadata": {},
   "outputs": [],
   "source": [
    "data[[1,3]] = data[[3,1]]"
   ]
  },
  {
   "cell_type": "code",
   "execution_count": 6,
   "id": "a63c7e18-adc2-4318-b33a-50763e35e19f",
   "metadata": {},
   "outputs": [
    {
     "name": "stdout",
     "output_type": "stream",
     "text": [
      "[[14 48 90 42 11]\n",
      " [57 55 45 90 28]\n",
      " [44 22 46 75 45]\n",
      " [76  2 74 10 42]\n",
      " [26 71 18 42 31]]\n"
     ]
    }
   ],
   "source": [
    "print(data)"
   ]
  },
  {
   "cell_type": "markdown",
   "id": "769581e7-d606-4bd2-85cc-3f77794649ff",
   "metadata": {},
   "source": [
    "# Normalization"
   ]
  },
  {
   "cell_type": "code",
   "execution_count": 7,
   "id": "33babbb4-9edd-4bdc-b74e-8e44a7f8c61c",
   "metadata": {},
   "outputs": [],
   "source": [
    "min_value = np.min(data)"
   ]
  },
  {
   "cell_type": "code",
   "execution_count": 8,
   "id": "52f4a267-d138-4d8f-91f6-72eb78991472",
   "metadata": {},
   "outputs": [],
   "source": [
    "max_value = np.max(data)"
   ]
  },
  {
   "cell_type": "code",
   "execution_count": 9,
   "id": "95142eed-105e-4531-975b-cf39be075eb2",
   "metadata": {},
   "outputs": [
    {
     "name": "stdout",
     "output_type": "stream",
     "text": [
      "[[0.13636364 0.52272727 1.         0.45454545 0.10227273]\n",
      " [0.625      0.60227273 0.48863636 1.         0.29545455]\n",
      " [0.47727273 0.22727273 0.5        0.82954545 0.48863636]\n",
      " [0.84090909 0.         0.81818182 0.09090909 0.45454545]\n",
      " [0.27272727 0.78409091 0.18181818 0.45454545 0.32954545]]\n"
     ]
    }
   ],
   "source": [
    "print((data - min_value) / (max_value - min_value))"
   ]
  },
  {
   "cell_type": "markdown",
   "id": "c4b089cf-fcd0-40fd-a1f2-36779c839bce",
   "metadata": {},
   "source": [
    "# Z-score normalization"
   ]
  },
  {
   "cell_type": "code",
   "execution_count": 10,
   "id": "f20c085b-aaf1-4bd5-925d-328857cdcc94",
   "metadata": {},
   "outputs": [],
   "source": [
    "mean = np.mean(data, axis=0)"
   ]
  },
  {
   "cell_type": "code",
   "execution_count": 11,
   "id": "b81caee7-cc38-458b-be6b-7db628f633e3",
   "metadata": {},
   "outputs": [],
   "source": [
    "std = np.std(data, axis=0)"
   ]
  },
  {
   "cell_type": "code",
   "execution_count": 12,
   "id": "064a928a-9ee3-405d-97b8-d4c988556956",
   "metadata": {},
   "outputs": [
    {
     "name": "stdout",
     "output_type": "stream",
     "text": [
      "[[-1.33769093  0.34194971  1.41369473 -0.3492524  -1.69389416]\n",
      " [ 0.6187958   0.6269078  -0.38337484  1.36137161 -0.28231569]\n",
      " [ 0.02729981 -0.71646606 -0.34343996  0.82680161  1.12926278]\n",
      " [ 1.48328994 -1.53063203  0.77473666 -1.48966841  0.88016069]\n",
      " [-0.79169463  1.27824058 -1.46161659 -0.3492524  -0.03321361]]\n"
     ]
    }
   ],
   "source": [
    "print((data - mean) / std)"
   ]
  },
  {
   "cell_type": "markdown",
   "id": "59ce770a-b189-4502-a96a-a23796d25fd2",
   "metadata": {},
   "source": [
    "# Array splitting"
   ]
  },
  {
   "cell_type": "code",
   "execution_count": 16,
   "id": "f61cd3af-3a06-45a4-af4f-dad698413eaf",
   "metadata": {},
   "outputs": [],
   "source": [
    "splitted_data = np.array_split(np.ravel(data), 5)"
   ]
  },
  {
   "cell_type": "code",
   "execution_count": 21,
   "id": "eb890b62-d310-4bff-bd8b-23d82259555e",
   "metadata": {},
   "outputs": [
    {
     "name": "stdout",
     "output_type": "stream",
     "text": [
      "[14 48 90 42 11]\n",
      "[57 55 45 90 28]\n",
      "[44 22 46 75 45]\n",
      "[76  2 74 10 42]\n",
      "[26 71 18 42 31]\n"
     ]
    }
   ],
   "source": [
    "for array in splitted_data:\n",
    "    print(array)"
   ]
  },
  {
   "cell_type": "markdown",
   "id": "320175b9-9658-443e-b0be-8150693dc00a",
   "metadata": {},
   "source": [
    "# Dot product"
   ]
  },
  {
   "cell_type": "code",
   "execution_count": 24,
   "id": "fc5e464c-d9aa-499b-9859-8454a933f1db",
   "metadata": {},
   "outputs": [],
   "source": [
    "vector1 = np.array([3, 5, 6, 7, 8])"
   ]
  },
  {
   "cell_type": "code",
   "execution_count": 25,
   "id": "c9bd353d-be55-4355-a6df-c43147520bb2",
   "metadata": {},
   "outputs": [],
   "source": [
    "vector2 = np.array([2, 4, 6, 8, 10])"
   ]
  },
  {
   "cell_type": "code",
   "execution_count": 26,
   "id": "d5de1dc7-7d57-4930-ba89-09a054c14557",
   "metadata": {},
   "outputs": [],
   "source": [
    "dot_product = np.dot(vector1, vector2)"
   ]
  },
  {
   "cell_type": "code",
   "execution_count": 27,
   "id": "a04f7e7d-90f4-4da4-b537-daeae9cae6e6",
   "metadata": {},
   "outputs": [
    {
     "name": "stdout",
     "output_type": "stream",
     "text": [
      "198\n"
     ]
    }
   ],
   "source": [
    "print(dot_product)"
   ]
  },
  {
   "cell_type": "markdown",
   "id": "1a7c032d-a947-4853-831c-5826371e37c0",
   "metadata": {},
   "source": [
    "# Matrix multiplication"
   ]
  },
  {
   "cell_type": "code",
   "execution_count": 40,
   "id": "dd39391d-1255-485f-94a8-4fdd93db6abb",
   "metadata": {},
   "outputs": [],
   "source": [
    "data2 = np.array(np.random.randint(1, 100, size=9)).reshape(3,3)"
   ]
  },
  {
   "cell_type": "code",
   "execution_count": 41,
   "id": "382f314a-edbc-4bb5-83ab-27d6910726b2",
   "metadata": {},
   "outputs": [],
   "source": [
    "data_part_3_3 = data[:3, :3]"
   ]
  },
  {
   "cell_type": "code",
   "execution_count": 42,
   "id": "932b6ded-1c40-41fe-8879-02a4588343f1",
   "metadata": {},
   "outputs": [
    {
     "data": {
      "text/plain": [
       "array([[ 7, 98, 59],\n",
       "       [58, 62, 46],\n",
       "       [61, 38, 11]])"
      ]
     },
     "execution_count": 42,
     "metadata": {},
     "output_type": "execute_result"
    }
   ],
   "source": [
    "data2"
   ]
  },
  {
   "cell_type": "code",
   "execution_count": 43,
   "id": "381b12ff-a72e-47fe-aa21-339e0c6c616b",
   "metadata": {},
   "outputs": [],
   "source": [
    "dot_product_matrix = np.dot(data_part_3_3, data2)"
   ]
  },
  {
   "cell_type": "code",
   "execution_count": 44,
   "id": "be919fc3-46e1-4e76-89f6-41111e23506e",
   "metadata": {},
   "outputs": [
    {
     "name": "stdout",
     "output_type": "stream",
     "text": [
      "[[ 8372  7768  4024]\n",
      " [ 6334 10706  6388]\n",
      " [ 4390  7424  4114]]\n"
     ]
    }
   ],
   "source": [
    "print(dot_product_matrix)"
   ]
  },
  {
   "cell_type": "markdown",
   "id": "ef24d539-5793-4ad1-82e5-1b2dc79cd694",
   "metadata": {},
   "source": [
    "# Identity matrix"
   ]
  },
  {
   "cell_type": "code",
   "execution_count": 46,
   "id": "c8037b8f-e9c6-4fb3-8865-3cee33a98f3c",
   "metadata": {},
   "outputs": [],
   "source": [
    "identity_matrix = np.identity(3) * 2"
   ]
  },
  {
   "cell_type": "code",
   "execution_count": 49,
   "id": "697d89c8-e73c-40c1-ba30-1ffcff3680fe",
   "metadata": {},
   "outputs": [],
   "source": [
    "inverse_matrix = np.linalg.inv(identity_matrix)"
   ]
  },
  {
   "cell_type": "code",
   "execution_count": 50,
   "id": "06dd4982-de97-4efe-a69e-72d51568ab46",
   "metadata": {},
   "outputs": [
    {
     "name": "stdout",
     "output_type": "stream",
     "text": [
      "[[0.5 0.  0. ]\n",
      " [0.  0.5 0. ]\n",
      " [0.  0.  0.5]]\n"
     ]
    }
   ],
   "source": [
    "print(inverse_matrix)"
   ]
  },
  {
   "cell_type": "markdown",
   "id": "b0e7a0c4-6543-475c-9d78-7a059508522b",
   "metadata": {},
   "source": [
    "# Eigenvalues and eigenvectors"
   ]
  },
  {
   "cell_type": "code",
   "execution_count": 51,
   "id": "c40b10ad-4aba-46b1-9553-12db289e8513",
   "metadata": {},
   "outputs": [],
   "source": [
    "eigenvalues, eigenvectors = np.linalg.eig(data_part)"
   ]
  },
  {
   "cell_type": "code",
   "execution_count": 52,
   "id": "0082ef66-8519-4b0d-a9ac-d0619f62b41b",
   "metadata": {},
   "outputs": [
    {
     "name": "stdout",
     "output_type": "stream",
     "text": [
      "Eigenvalues: [136.30648146 -41.4960684   20.18958694]\n",
      "Eigenvectors:\n",
      " [[-0.59367014 -0.86908838  0.15597481]\n",
      " [-0.66609434  0.35067479 -0.86705977]\n",
      " [-0.4515242   0.34887331  0.47315876]]\n"
     ]
    }
   ],
   "source": [
    "print(\"Eigenvalues:\", eigenvalues)\n",
    "print(\"Eigenvectors:\\n\", eigenvectors)"
   ]
  },
  {
   "cell_type": "markdown",
   "id": "cb75313a-ea6b-45c5-9bf6-7c904e94b48e",
   "metadata": {},
   "source": [
    "# Find missing values"
   ]
  },
  {
   "cell_type": "code",
   "execution_count": 69,
   "id": "9cbd5539-3665-4d7b-8d31-92518d1ada9f",
   "metadata": {},
   "outputs": [],
   "source": [
    "data_replaced_nan = data.copy()"
   ]
  },
  {
   "cell_type": "code",
   "execution_count": 70,
   "id": "4af5ec5f-3934-42b8-a6f2-fa33e1702bfa",
   "metadata": {},
   "outputs": [],
   "source": [
    "missing_indices = np.random.choice(data.size, 5, replace=False)"
   ]
  },
  {
   "cell_type": "markdown",
   "id": "45a9ad2f-16f2-4890-a56e-ab70260fdac3",
   "metadata": {},
   "source": [
    "# Replace missing values"
   ]
  },
  {
   "cell_type": "code",
   "execution_count": 73,
   "id": "42ad6dfa-9235-459e-b2a8-4f23237bd51e",
   "metadata": {},
   "outputs": [],
   "source": [
    "matrix_mean = np.nanmean(data_replaced_nan)"
   ]
  },
  {
   "cell_type": "code",
   "execution_count": 74,
   "id": "b8faab76-d568-4b2b-a2a1-0ff4d28b3985",
   "metadata": {},
   "outputs": [],
   "source": [
    "data_with_mean = np.where(np.isnan(data_replaced_nan), matrix_mean, data_replaced_nan)"
   ]
  },
  {
   "cell_type": "code",
   "execution_count": 75,
   "id": "e25506b1-dedf-4194-ac68-3c155f365c69",
   "metadata": {},
   "outputs": [
    {
     "name": "stdout",
     "output_type": "stream",
     "text": [
      "[[14. 48. 90. 42. 11.]\n",
      " [57. 55. 45. 90. 28.]\n",
      " [44. 22. 46. 75. 45.]\n",
      " [76.  2. 74. 10. 42.]\n",
      " [26. 71. 18. 42. 31.]]\n"
     ]
    }
   ],
   "source": [
    "print(data_with_mean)"
   ]
  }
 ],
 "metadata": {
  "kernelspec": {
   "display_name": "Python 3 (ipykernel)",
   "language": "python",
   "name": "python3"
  },
  "language_info": {
   "codemirror_mode": {
    "name": "ipython",
    "version": 3
   },
   "file_extension": ".py",
   "mimetype": "text/x-python",
   "name": "python",
   "nbconvert_exporter": "python",
   "pygments_lexer": "ipython3",
   "version": "3.11.3"
  }
 },
 "nbformat": 4,
 "nbformat_minor": 5
}
