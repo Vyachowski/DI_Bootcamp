{
 "cells": [
  {
   "cell_type": "code",
   "execution_count": 22,
   "id": "a1f21306-e034-456f-98cd-edc1a45524c4",
   "metadata": {},
   "outputs": [],
   "source": [
    "import numpy as np"
   ]
  },
  {
   "cell_type": "markdown",
   "id": "efabbad3-81fd-4aa8-a3cb-b813f7122686",
   "metadata": {},
   "source": [
    "# Matrix Manipulation"
   ]
  },
  {
   "cell_type": "code",
   "execution_count": 11,
   "id": "bab40bcc-f302-4cdd-ac0e-8b8447812ded",
   "metadata": {},
   "outputs": [],
   "source": [
    "data = np.array(np.random.randint(1, 100, size=25)).reshape(5,5)"
   ]
  },
  {
   "cell_type": "code",
   "execution_count": 18,
   "id": "127057dc-2100-4994-8dda-35522e76f71f",
   "metadata": {},
   "outputs": [
    {
     "data": {
      "text/plain": [
       "array([[95, 13,  5, 17, 89],\n",
       "       [41, 50, 75,  6, 25],\n",
       "       [35, 37,  4, 53, 12],\n",
       "       [99, 97, 43, 66,  8],\n",
       "       [63, 49, 54, 36, 71]])"
      ]
     },
     "execution_count": 18,
     "metadata": {},
     "output_type": "execute_result"
    }
   ],
   "source": [
    "data"
   ]
  },
  {
   "cell_type": "code",
   "execution_count": 33,
   "id": "c776b767-8805-4fa4-abc3-d941862fe1ae",
   "metadata": {},
   "outputs": [],
   "source": [
    "data[[1,3]] = data[[3,1]]"
   ]
  },
  {
   "cell_type": "code",
   "execution_count": 34,
   "id": "a63c7e18-adc2-4318-b33a-50763e35e19f",
   "metadata": {},
   "outputs": [
    {
     "name": "stdout",
     "output_type": "stream",
     "text": [
      "[[95 13  5 17 89]\n",
      " [41 50 75  6 25]\n",
      " [35 37  4 53 12]\n",
      " [99 97 43 66  8]\n",
      " [63 49 54 36 71]]\n"
     ]
    }
   ],
   "source": [
    "print(data)"
   ]
  },
  {
   "cell_type": "markdown",
   "id": "769581e7-d606-4bd2-85cc-3f77794649ff",
   "metadata": {},
   "source": [
    "# Normalization"
   ]
  },
  {
   "cell_type": "code",
   "execution_count": 23,
   "id": "33babbb4-9edd-4bdc-b74e-8e44a7f8c61c",
   "metadata": {},
   "outputs": [],
   "source": [
    "min_value = np.min(data)"
   ]
  },
  {
   "cell_type": "code",
   "execution_count": 24,
   "id": "52f4a267-d138-4d8f-91f6-72eb78991472",
   "metadata": {},
   "outputs": [],
   "source": [
    "max_value = np.max(data)"
   ]
  },
  {
   "cell_type": "code",
   "execution_count": 26,
   "id": "95142eed-105e-4531-975b-cf39be075eb2",
   "metadata": {},
   "outputs": [
    {
     "name": "stdout",
     "output_type": "stream",
     "text": [
      "[[0.95789474 0.09473684 0.01052632 0.13684211 0.89473684]\n",
      " [1.         0.97894737 0.41052632 0.65263158 0.04210526]\n",
      " [0.32631579 0.34736842 0.         0.51578947 0.08421053]\n",
      " [0.38947368 0.48421053 0.74736842 0.02105263 0.22105263]\n",
      " [0.62105263 0.47368421 0.52631579 0.33684211 0.70526316]]\n"
     ]
    }
   ],
   "source": [
    "print((data - min_value) / (max_value - min_value))"
   ]
  },
  {
   "cell_type": "markdown",
   "id": "c4b089cf-fcd0-40fd-a1f2-36779c839bce",
   "metadata": {},
   "source": [
    "# Z-score normalization"
   ]
  },
  {
   "cell_type": "code",
   "execution_count": 35,
   "id": "f20c085b-aaf1-4bd5-925d-328857cdcc94",
   "metadata": {},
   "outputs": [],
   "source": [
    "mean = np.mean(data, axis=0)"
   ]
  },
  {
   "cell_type": "code",
   "execution_count": 36,
   "id": "b81caee7-cc38-458b-be6b-7db628f633e3",
   "metadata": {},
   "outputs": [],
   "source": [
    "std = np.std(data, axis=0)"
   ]
  },
  {
   "cell_type": "code",
   "execution_count": 37,
   "id": "064a928a-9ee3-405d-97b8-d4c988556956",
   "metadata": {},
   "outputs": [
    {
     "name": "stdout",
     "output_type": "stream",
     "text": [
      "[[ 1.06987908 -1.32275453 -1.12018797 -0.84039957  1.46194777]\n",
      " [-0.96439804  0.02923214  1.39305427 -1.33741007 -0.48731592]\n",
      " [-1.19042883 -0.4457902  -1.15609143  0.78618024 -0.88326011]\n",
      " [ 1.22056627  1.74662063  0.24414353  1.37355628 -1.00508909]\n",
      " [-0.13561847 -0.00730804  0.6390816   0.01807311  0.91371736]]\n"
     ]
    }
   ],
   "source": [
    "print((data - mean) / std)"
   ]
  },
  {
   "cell_type": "markdown",
   "id": "59ce770a-b189-4502-a96a-a23796d25fd2",
   "metadata": {},
   "source": [
    "# Z-score normalization"
   ]
  }
 ],
 "metadata": {
  "kernelspec": {
   "display_name": "Python 3 (ipykernel)",
   "language": "python",
   "name": "python3"
  },
  "language_info": {
   "codemirror_mode": {
    "name": "ipython",
    "version": 3
   },
   "file_extension": ".py",
   "mimetype": "text/x-python",
   "name": "python",
   "nbconvert_exporter": "python",
   "pygments_lexer": "ipython3",
   "version": "3.11.3"
  }
 },
 "nbformat": 4,
 "nbformat_minor": 5
}
