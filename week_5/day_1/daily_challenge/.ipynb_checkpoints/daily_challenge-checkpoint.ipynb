{
 "cells": [
  {
   "cell_type": "code",
   "execution_count": 5,
   "id": "a1f21306-e034-456f-98cd-edc1a45524c4",
   "metadata": {},
   "outputs": [],
   "source": [
    "import numpy as np"
   ]
  },
  {
   "cell_type": "markdown",
   "id": "efabbad3-81fd-4aa8-a3cb-b813f7122686",
   "metadata": {},
   "source": [
    "# Matrix Manipulation"
   ]
  },
  {
   "cell_type": "code",
   "execution_count": 6,
   "id": "bab40bcc-f302-4cdd-ac0e-8b8447812ded",
   "metadata": {},
   "outputs": [],
   "source": [
    "data = np.array(np.random.randint(1, 100, size=25)).reshape(5,5)"
   ]
  },
  {
   "cell_type": "code",
   "execution_count": 7,
   "id": "127057dc-2100-4994-8dda-35522e76f71f",
   "metadata": {},
   "outputs": [
    {
     "data": {
      "text/plain": [
       "array([[77, 27, 81, 34, 27],\n",
       "       [ 6, 57, 48, 29, 82],\n",
       "       [99, 76, 95, 53,  1],\n",
       "       [11, 27, 71,  1, 32],\n",
       "       [19, 54, 80, 49, 51]])"
      ]
     },
     "execution_count": 7,
     "metadata": {},
     "output_type": "execute_result"
    }
   ],
   "source": [
    "data"
   ]
  },
  {
   "cell_type": "code",
   "execution_count": 8,
   "id": "c776b767-8805-4fa4-abc3-d941862fe1ae",
   "metadata": {},
   "outputs": [],
   "source": [
    "data[[1,3]] = data[[3,1]]"
   ]
  },
  {
   "cell_type": "code",
   "execution_count": 9,
   "id": "a63c7e18-adc2-4318-b33a-50763e35e19f",
   "metadata": {},
   "outputs": [
    {
     "name": "stdout",
     "output_type": "stream",
     "text": [
      "[[77 27 81 34 27]\n",
      " [11 27 71  1 32]\n",
      " [99 76 95 53  1]\n",
      " [ 6 57 48 29 82]\n",
      " [19 54 80 49 51]]\n"
     ]
    }
   ],
   "source": [
    "print(data)"
   ]
  },
  {
   "cell_type": "markdown",
   "id": "769581e7-d606-4bd2-85cc-3f77794649ff",
   "metadata": {},
   "source": [
    "# Normalization"
   ]
  },
  {
   "cell_type": "code",
   "execution_count": 10,
   "id": "33babbb4-9edd-4bdc-b74e-8e44a7f8c61c",
   "metadata": {},
   "outputs": [],
   "source": [
    "min_value = np.min(data)"
   ]
  },
  {
   "cell_type": "code",
   "execution_count": 11,
   "id": "52f4a267-d138-4d8f-91f6-72eb78991472",
   "metadata": {},
   "outputs": [],
   "source": [
    "max_value = np.max(data)"
   ]
  },
  {
   "cell_type": "code",
   "execution_count": 12,
   "id": "95142eed-105e-4531-975b-cf39be075eb2",
   "metadata": {},
   "outputs": [
    {
     "name": "stdout",
     "output_type": "stream",
     "text": [
      "[[0.7755102  0.26530612 0.81632653 0.33673469 0.26530612]\n",
      " [0.10204082 0.26530612 0.71428571 0.         0.31632653]\n",
      " [1.         0.76530612 0.95918367 0.53061224 0.        ]\n",
      " [0.05102041 0.57142857 0.47959184 0.28571429 0.82653061]\n",
      " [0.18367347 0.54081633 0.80612245 0.48979592 0.51020408]]\n"
     ]
    }
   ],
   "source": [
    "print((data - min_value) / (max_value - min_value))"
   ]
  },
  {
   "cell_type": "markdown",
   "id": "c4b089cf-fcd0-40fd-a1f2-36779c839bce",
   "metadata": {},
   "source": [
    "# Z-score normalization"
   ]
  },
  {
   "cell_type": "code",
   "execution_count": 13,
   "id": "f20c085b-aaf1-4bd5-925d-328857cdcc94",
   "metadata": {},
   "outputs": [],
   "source": [
    "mean = np.mean(data, axis=0)"
   ]
  },
  {
   "cell_type": "code",
   "execution_count": 14,
   "id": "b81caee7-cc38-458b-be6b-7db628f633e3",
   "metadata": {},
   "outputs": [],
   "source": [
    "std = np.std(data, axis=0)"
   ]
  },
  {
   "cell_type": "code",
   "execution_count": 15,
   "id": "064a928a-9ee3-405d-97b8-d4c988556956",
   "metadata": {},
   "outputs": [
    {
     "name": "stdout",
     "output_type": "stream",
     "text": [
      "[[ 0.90806455 -1.12271507  0.3863337   0.04342698 -0.43056383]\n",
      " [-0.8240817  -1.12271507 -0.2575558  -1.74793608 -0.24497597]\n",
      " [ 1.48544663  1.47223957  1.28777902  1.07481784 -1.39562068]\n",
      " [-0.9553049   0.46603267 -1.73850167 -0.22799166  1.61090259]\n",
      " [-0.61412458  0.3071579   0.32194475  0.85768292  0.46025788]]\n"
     ]
    }
   ],
   "source": [
    "print((data - mean) / std)"
   ]
  },
  {
   "cell_type": "markdown",
   "id": "59ce770a-b189-4502-a96a-a23796d25fd2",
   "metadata": {},
   "source": [
    "# Array splitting"
   ]
  },
  {
   "cell_type": "code",
   "execution_count": 16,
   "id": "f61cd3af-3a06-45a4-af4f-dad698413eaf",
   "metadata": {},
   "outputs": [],
   "source": [
    "splitted_data = np.array_split(np.ravel(data), 5)"
   ]
  },
  {
   "cell_type": "code",
   "execution_count": 17,
   "id": "eb890b62-d310-4bff-bd8b-23d82259555e",
   "metadata": {},
   "outputs": [
    {
     "name": "stdout",
     "output_type": "stream",
     "text": [
      "[77 27 81 34 27]\n",
      "[11 27 71  1 32]\n",
      "[99 76 95 53  1]\n",
      "[ 6 57 48 29 82]\n",
      "[19 54 80 49 51]\n"
     ]
    }
   ],
   "source": [
    "for array in splitted_data:\n",
    "    print(array)"
   ]
  },
  {
   "cell_type": "markdown",
   "id": "320175b9-9658-443e-b0be-8150693dc00a",
   "metadata": {},
   "source": [
    "# Dot product"
   ]
  },
  {
   "cell_type": "code",
   "execution_count": 18,
   "id": "fc5e464c-d9aa-499b-9859-8454a933f1db",
   "metadata": {},
   "outputs": [],
   "source": [
    "vector1 = np.array([3, 5, 6, 7, 8])"
   ]
  },
  {
   "cell_type": "code",
   "execution_count": 19,
   "id": "c9bd353d-be55-4355-a6df-c43147520bb2",
   "metadata": {},
   "outputs": [],
   "source": [
    "vector2 = np.array([2, 4, 6, 8, 10])"
   ]
  },
  {
   "cell_type": "code",
   "execution_count": 20,
   "id": "d5de1dc7-7d57-4930-ba89-09a054c14557",
   "metadata": {},
   "outputs": [],
   "source": [
    "dot_product = np.dot(vector1, vector2)"
   ]
  },
  {
   "cell_type": "code",
   "execution_count": 21,
   "id": "a04f7e7d-90f4-4da4-b537-daeae9cae6e6",
   "metadata": {},
   "outputs": [
    {
     "name": "stdout",
     "output_type": "stream",
     "text": [
      "198\n"
     ]
    }
   ],
   "source": [
    "print(dot_product)"
   ]
  },
  {
   "cell_type": "markdown",
   "id": "1a7c032d-a947-4853-831c-5826371e37c0",
   "metadata": {},
   "source": [
    "# Matrix multiplication"
   ]
  },
  {
   "cell_type": "code",
   "execution_count": 22,
   "id": "dd39391d-1255-485f-94a8-4fdd93db6abb",
   "metadata": {},
   "outputs": [],
   "source": [
    "data2 = np.array(np.random.randint(1, 100, size=9)).reshape(3,3)"
   ]
  },
  {
   "cell_type": "code",
   "execution_count": 23,
   "id": "382f314a-edbc-4bb5-83ab-27d6910726b2",
   "metadata": {},
   "outputs": [],
   "source": [
    "data_part_3_3 = data[:3, :3]"
   ]
  },
  {
   "cell_type": "code",
   "execution_count": 24,
   "id": "932b6ded-1c40-41fe-8879-02a4588343f1",
   "metadata": {},
   "outputs": [
    {
     "data": {
      "text/plain": [
       "array([[93, 20,  6],\n",
       "       [20, 74, 98],\n",
       "       [18, 50, 87]])"
      ]
     },
     "execution_count": 24,
     "metadata": {},
     "output_type": "execute_result"
    }
   ],
   "source": [
    "data2"
   ]
  },
  {
   "cell_type": "code",
   "execution_count": 25,
   "id": "381b12ff-a72e-47fe-aa21-339e0c6c616b",
   "metadata": {},
   "outputs": [],
   "source": [
    "dot_product_matrix = np.dot(data_part_3_3, data2)"
   ]
  },
  {
   "cell_type": "code",
   "execution_count": 26,
   "id": "be919fc3-46e1-4e76-89f6-41111e23506e",
   "metadata": {},
   "outputs": [
    {
     "name": "stdout",
     "output_type": "stream",
     "text": [
      "[[ 9159  7588 10155]\n",
      " [ 2841  5768  8889]\n",
      " [12437 12354 16307]]\n"
     ]
    }
   ],
   "source": [
    "print(dot_product_matrix)"
   ]
  },
  {
   "cell_type": "markdown",
   "id": "ef24d539-5793-4ad1-82e5-1b2dc79cd694",
   "metadata": {},
   "source": [
    "# Identity matrix"
   ]
  },
  {
   "cell_type": "code",
   "execution_count": 27,
   "id": "c8037b8f-e9c6-4fb3-8865-3cee33a98f3c",
   "metadata": {},
   "outputs": [],
   "source": [
    "identity_matrix = np.identity(3) * 2"
   ]
  },
  {
   "cell_type": "code",
   "execution_count": 28,
   "id": "697d89c8-e73c-40c1-ba30-1ffcff3680fe",
   "metadata": {},
   "outputs": [],
   "source": [
    "inverse_matrix = np.linalg.inv(identity_matrix)"
   ]
  },
  {
   "cell_type": "code",
   "execution_count": 29,
   "id": "06dd4982-de97-4efe-a69e-72d51568ab46",
   "metadata": {},
   "outputs": [
    {
     "name": "stdout",
     "output_type": "stream",
     "text": [
      "[[0.5 0.  0. ]\n",
      " [0.  0.5 0. ]\n",
      " [0.  0.  0.5]]\n"
     ]
    }
   ],
   "source": [
    "print(inverse_matrix)"
   ]
  },
  {
   "cell_type": "markdown",
   "id": "b0e7a0c4-6543-475c-9d78-7a059508522b",
   "metadata": {},
   "source": [
    "# Eigenvalues and eigenvectors"
   ]
  },
  {
   "cell_type": "code",
   "execution_count": 171,
   "id": "c40b10ad-4aba-46b1-9553-12db289e8513",
   "metadata": {},
   "outputs": [],
   "source": [
    "eigenvalues, eigenvectors = np.linalg.eig(data_part_3_3)"
   ]
  },
  {
   "cell_type": "code",
   "execution_count": 172,
   "id": "0082ef66-8519-4b0d-a9ac-d0619f62b41b",
   "metadata": {},
   "outputs": [
    {
     "name": "stdout",
     "output_type": "stream",
     "text": [
      "Eigenvalues: [202.65330479  30.04782596 -33.70113075]\n",
      "Eigenvectors:\n",
      " [[-0.56003856 -0.65715848 -0.30177476]\n",
      " [-0.34037422  0.74180763 -0.70104936]\n",
      " [-0.75531596  0.13365695  0.64611283]]\n"
     ]
    }
   ],
   "source": [
    "print(\"Eigenvalues:\", eigenvalues)\n",
    "print(\"Eigenvectors:\\n\", eigenvectors)"
   ]
  },
  {
   "cell_type": "markdown",
   "id": "cb75313a-ea6b-45c5-9bf6-7c904e94b48e",
   "metadata": {},
   "source": [
    "# Find missing values"
   ]
  },
  {
   "cell_type": "markdown",
   "id": "91c04c40-49ac-4e76-98c6-e173cf48c58a",
   "metadata": {},
   "source": [
    "## Replacing values"
   ]
  },
  {
   "cell_type": "code",
   "execution_count": 207,
   "id": "9cbd5539-3665-4d7b-8d31-92518d1ada9f",
   "metadata": {},
   "outputs": [],
   "source": [
    "new_data = np.array(np.random.randint(1, 100, size=25)).reshape(5,5)"
   ]
  },
  {
   "cell_type": "code",
   "execution_count": 208,
   "id": "214f0281-ecb2-402a-936a-586af5cfc8b7",
   "metadata": {},
   "outputs": [],
   "source": [
    "new_data = new_data.astype('float16')"
   ]
  },
  {
   "cell_type": "code",
   "execution_count": 209,
   "id": "52ef964f-5695-4df0-82fb-b6c366815beb",
   "metadata": {},
   "outputs": [
    {
     "data": {
      "text/plain": [
       "array([[11., 88., 95., 76., 96.],\n",
       "       [54., 56., 42., 97., 27.],\n",
       "       [59., 64., 96.,  2., 45.],\n",
       "       [91., 18., 74.,  2., 15.],\n",
       "       [40., 42., 60., 95., 97.]], dtype=float16)"
      ]
     },
     "execution_count": 209,
     "metadata": {},
     "output_type": "execute_result"
    }
   ],
   "source": [
    "new_data"
   ]
  },
  {
   "cell_type": "code",
   "execution_count": 221,
   "id": "116f1e35-2068-4aa1-ba01-2041db2cf601",
   "metadata": {},
   "outputs": [],
   "source": [
    "random_idx = np.random.choice(range(25), size=5, replace=False)"
   ]
  },
  {
   "cell_type": "code",
   "execution_count": 222,
   "id": "3ed0ac70-d41c-44c3-b637-88bf0d77685e",
   "metadata": {},
   "outputs": [
    {
     "data": {
      "text/plain": [
       "array([20, 22, 18,  4,  0])"
      ]
     },
     "execution_count": 222,
     "metadata": {},
     "output_type": "execute_result"
    }
   ],
   "source": [
    "random_idx"
   ]
  },
  {
   "cell_type": "code",
   "execution_count": 223,
   "id": "59a5eee2-f767-44f8-98a3-60b16830e487",
   "metadata": {},
   "outputs": [],
   "source": [
    "num_rows, num_cols = new_data.shape"
   ]
  },
  {
   "cell_type": "code",
   "execution_count": 224,
   "id": "8a8090f2-4e0f-4ee8-ad3c-e11b2e9aab12",
   "metadata": {},
   "outputs": [
    {
     "data": {
      "text/plain": [
       "5"
      ]
     },
     "execution_count": 224,
     "metadata": {},
     "output_type": "execute_result"
    }
   ],
   "source": [
    "num_rows"
   ]
  },
  {
   "cell_type": "code",
   "execution_count": 225,
   "id": "63c60f7a-78d5-47f2-a8f0-73ab73498068",
   "metadata": {},
   "outputs": [],
   "source": [
    "row_indices = random_idx // num_cols"
   ]
  },
  {
   "cell_type": "code",
   "execution_count": 226,
   "id": "5806611f-3deb-4512-9c5d-e24354349022",
   "metadata": {},
   "outputs": [],
   "source": [
    "column_indices = random_idx % num_cols"
   ]
  },
  {
   "cell_type": "code",
   "execution_count": 227,
   "id": "941644da-1175-4f10-9ce9-c6e9c6193781",
   "metadata": {},
   "outputs": [],
   "source": [
    "new_data[row_indices, column_indices] = np.nan"
   ]
  },
  {
   "cell_type": "code",
   "execution_count": 228,
   "id": "5f02e9a4-1798-400c-b241-dcf2ad3f3388",
   "metadata": {},
   "outputs": [
    {
     "name": "stdout",
     "output_type": "stream",
     "text": [
      "[[nan 88. 95. 76. nan]\n",
      " [54. 56. 42. 97. 27.]\n",
      " [59. 64. 96.  2. 45.]\n",
      " [91. 18. 74. nan 15.]\n",
      " [nan 42. nan 95. 97.]]\n"
     ]
    }
   ],
   "source": [
    "print(new_data)"
   ]
  },
  {
   "cell_type": "markdown",
   "id": "1ae5fe77-7ec6-44f0-86ed-5c75fd29b05b",
   "metadata": {},
   "source": [
    "## Finding missing values"
   ]
  },
  {
   "cell_type": "code",
   "execution_count": 229,
   "id": "09630372-c5bc-4ed7-a6ae-a4ffea99dc11",
   "metadata": {},
   "outputs": [],
   "source": [
    "row_indices2, column_indices2 = np.where(np.isnan(new_data))"
   ]
  },
  {
   "cell_type": "code",
   "execution_count": 230,
   "id": "2f081ada-305d-4e2b-bde6-8951780ba46f",
   "metadata": {},
   "outputs": [
    {
     "name": "stdout",
     "output_type": "stream",
     "text": [
      "[0 0 3 4 4] [0 4 3 0 2]\n"
     ]
    }
   ],
   "source": [
    "print(row_indices2,column_indices2)"
   ]
  },
  {
   "cell_type": "markdown",
   "id": "45a9ad2f-16f2-4890-a56e-ab70260fdac3",
   "metadata": {},
   "source": [
    "# Replace missing values"
   ]
  },
  {
   "cell_type": "code",
   "execution_count": 231,
   "id": "81a1e1f5-0e22-4ed7-a702-bdaf680afb0d",
   "metadata": {},
   "outputs": [],
   "source": [
    "data_with_replaced_nan = new_data.copy()"
   ]
  },
  {
   "cell_type": "code",
   "execution_count": 235,
   "id": "42ad6dfa-9235-459e-b2a8-4f23237bd51e",
   "metadata": {},
   "outputs": [],
   "source": [
    "matrix_mean = np.nanmean(data_with_replaced_nan)"
   ]
  },
  {
   "cell_type": "code",
   "execution_count": 236,
   "id": "b8faab76-d568-4b2b-a2a1-0ff4d28b3985",
   "metadata": {},
   "outputs": [],
   "source": [
    "data_with_mean = np.where(np.isnan(data_with_replaced_nan), matrix_mean, data_with_replaced_nan)"
   ]
  },
  {
   "cell_type": "code",
   "execution_count": 237,
   "id": "e25506b1-dedf-4194-ac68-3c155f365c69",
   "metadata": {},
   "outputs": [
    {
     "name": "stdout",
     "output_type": "stream",
     "text": [
      "[[61.66 88.   95.   76.   61.66]\n",
      " [54.   56.   42.   97.   27.  ]\n",
      " [59.   64.   96.    2.   45.  ]\n",
      " [91.   18.   74.   61.66 15.  ]\n",
      " [61.66 42.   61.66 95.   97.  ]]\n"
     ]
    }
   ],
   "source": [
    "print(data_with_mean)"
   ]
  }
 ],
 "metadata": {
  "kernelspec": {
   "display_name": "Python 3 (ipykernel)",
   "language": "python",
   "name": "python3"
  },
  "language_info": {
   "codemirror_mode": {
    "name": "ipython",
    "version": 3
   },
   "file_extension": ".py",
   "mimetype": "text/x-python",
   "name": "python",
   "nbconvert_exporter": "python",
   "pygments_lexer": "ipython3",
   "version": "3.11.3"
  }
 },
 "nbformat": 4,
 "nbformat_minor": 5
}
