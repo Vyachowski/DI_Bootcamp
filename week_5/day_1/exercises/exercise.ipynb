{
 "cells": [
  {
   "cell_type": "code",
   "execution_count": 1,
   "id": "462b1570-3fa4-4b3c-b4ee-7a9b12a58534",
   "metadata": {},
   "outputs": [],
   "source": [
    "import numpy as np"
   ]
  },
  {
   "cell_type": "code",
   "execution_count": 2,
   "id": "c0582d46-f3c6-4ba5-8942-65110dcb890c",
   "metadata": {},
   "outputs": [],
   "source": [
    "vector = np.zeros(10)"
   ]
  },
  {
   "cell_type": "code",
   "execution_count": 4,
   "id": "644c3bac-e67d-4c11-a8d0-7c7ab7b39c88",
   "metadata": {},
   "outputs": [
    {
     "name": "stdout",
     "output_type": "stream",
     "text": [
      "[0. 0. 0. 0. 0. 0. 0. 0. 0. 0.]\n"
     ]
    }
   ],
   "source": [
    "print(vector)"
   ]
  },
  {
   "cell_type": "code",
   "execution_count": 6,
   "id": "e279faf5-c8ff-497b-8bbb-687b340d039a",
   "metadata": {},
   "outputs": [],
   "source": [
    "vector_memory_size = vector.size * vector.itemsize"
   ]
  },
  {
   "cell_type": "code",
   "execution_count": 7,
   "id": "ece6a3a1-4ee6-4dcf-84f3-c9ab12514097",
   "metadata": {},
   "outputs": [
    {
     "name": "stdout",
     "output_type": "stream",
     "text": [
      "80\n"
     ]
    }
   ],
   "source": [
    "print(vector_memory_size)"
   ]
  },
  {
   "cell_type": "code",
   "execution_count": 8,
   "id": "f7456e59-156e-4107-a903-b1d3ea757c16",
   "metadata": {},
   "outputs": [
    {
     "name": "stdout",
     "output_type": "stream",
     "text": [
      "add(x1, x2, /, out=None, *, where=True, casting='same_kind', order='K', dtype=None, subok=True[, signature, extobj])\n",
      "\n",
      "Add arguments element-wise.\n",
      "\n",
      "Parameters\n",
      "----------\n",
      "x1, x2 : array_like\n",
      "    The arrays to be added.\n",
      "    If ``x1.shape != x2.shape``, they must be broadcastable to a common\n",
      "    shape (which becomes the shape of the output).\n",
      "out : ndarray, None, or tuple of ndarray and None, optional\n",
      "    A location into which the result is stored. If provided, it must have\n",
      "    a shape that the inputs broadcast to. If not provided or None,\n",
      "    a freshly-allocated array is returned. A tuple (possible only as a\n",
      "    keyword argument) must have length equal to the number of outputs.\n",
      "where : array_like, optional\n",
      "    This condition is broadcast over the input. At locations where the\n",
      "    condition is True, the `out` array will be set to the ufunc result.\n",
      "    Elsewhere, the `out` array will retain its original value.\n",
      "    Note that if an uninitialized `out` array is created via the default\n",
      "    ``out=None``, locations within it where the condition is False will\n",
      "    remain uninitialized.\n",
      "**kwargs\n",
      "    For other keyword-only arguments, see the\n",
      "    :ref:`ufunc docs <ufuncs.kwargs>`.\n",
      "\n",
      "Returns\n",
      "-------\n",
      "add : ndarray or scalar\n",
      "    The sum of `x1` and `x2`, element-wise.\n",
      "    This is a scalar if both `x1` and `x2` are scalars.\n",
      "\n",
      "Notes\n",
      "-----\n",
      "Equivalent to `x1` + `x2` in terms of array broadcasting.\n",
      "\n",
      "Examples\n",
      "--------\n",
      ">>> np.add(1.0, 4.0)\n",
      "5.0\n",
      ">>> x1 = np.arange(9.0).reshape((3, 3))\n",
      ">>> x2 = np.arange(3.0)\n",
      ">>> np.add(x1, x2)\n",
      "array([[  0.,   2.,   4.],\n",
      "       [  3.,   5.,   7.],\n",
      "       [  6.,   8.,  10.]])\n",
      "\n",
      "The ``+`` operator can be used as a shorthand for ``np.add`` on ndarrays.\n",
      "\n",
      ">>> x1 = np.arange(9.0).reshape((3, 3))\n",
      ">>> x2 = np.arange(3.0)\n",
      ">>> x1 + x2\n",
      "array([[ 0.,  2.,  4.],\n",
      "       [ 3.,  5.,  7.],\n",
      "       [ 6.,  8., 10.]])\n",
      "None\n"
     ]
    }
   ],
   "source": [
    "print(np.info(np. add))"
   ]
  },
  {
   "cell_type": "code",
   "execution_count": 9,
   "id": "c7bbece6-587f-4380-ab93-1182c939e771",
   "metadata": {},
   "outputs": [],
   "source": [
    "vector2 = np.arange(10, 50)"
   ]
  },
  {
   "cell_type": "code",
   "execution_count": 10,
   "id": "38b63358-3611-4300-8228-b3d6cb63b981",
   "metadata": {},
   "outputs": [],
   "source": [
    "reversed_vector2 = vector2[::-1]"
   ]
  },
  {
   "cell_type": "code",
   "execution_count": 11,
   "id": "0965e999-4dca-4f62-8410-769304f03825",
   "metadata": {},
   "outputs": [
    {
     "name": "stdout",
     "output_type": "stream",
     "text": [
      "[49 48 47 46 45 44 43 42 41 40 39 38 37 36 35 34 33 32 31 30 29 28 27 26\n",
      " 25 24 23 22 21 20 19 18 17 16 15 14 13 12 11 10]\n"
     ]
    }
   ],
   "source": [
    "print(reversed_vector2)"
   ]
  },
  {
   "cell_type": "code",
   "execution_count": 12,
   "id": "35036413-66bd-49ba-8495-0f4aae5bc660",
   "metadata": {},
   "outputs": [],
   "source": [
    "matrix = np.arange(0, 9).reshape(3,3)"
   ]
  },
  {
   "cell_type": "code",
   "execution_count": 13,
   "id": "598fee99-7b0b-43a4-8bc5-2cdc93271883",
   "metadata": {},
   "outputs": [
    {
     "name": "stdout",
     "output_type": "stream",
     "text": [
      "[[0 1 2]\n",
      " [3 4 5]\n",
      " [6 7 8]]\n"
     ]
    }
   ],
   "source": [
    "print(matrix)"
   ]
  },
  {
   "cell_type": "code",
   "execution_count": 14,
   "id": "0e0decbc-4398-44ee-b4c0-7faca159fd4a",
   "metadata": {},
   "outputs": [],
   "source": [
    "non_zero_array = np.nonzero([1,2,0,0,4,0])"
   ]
  },
  {
   "cell_type": "code",
   "execution_count": 15,
   "id": "e79dec66-b95a-4324-ab00-e67882847611",
   "metadata": {},
   "outputs": [
    {
     "name": "stdout",
     "output_type": "stream",
     "text": [
      "(array([0, 1, 4]),)\n"
     ]
    }
   ],
   "source": [
    "print(non_zero_array)"
   ]
  },
  {
   "cell_type": "code",
   "execution_count": 20,
   "id": "f8d53489-b6ec-416a-9cfc-0284d394f9eb",
   "metadata": {},
   "outputs": [],
   "source": [
    "diagonal_matrix = np.eye(3)"
   ]
  },
  {
   "cell_type": "code",
   "execution_count": 21,
   "id": "fb8d7585-af28-4a3f-a6f6-f7b3b909999a",
   "metadata": {},
   "outputs": [
    {
     "name": "stdout",
     "output_type": "stream",
     "text": [
      "[[1. 0. 0.]\n",
      " [0. 1. 0.]\n",
      " [0. 0. 1.]]\n"
     ]
    }
   ],
   "source": [
    "print(diagonal_matrix)"
   ]
  },
  {
   "cell_type": "code",
   "execution_count": 29,
   "id": "8bd32a8f-9a51-4b79-aca4-7fc5de1b4bd5",
   "metadata": {},
   "outputs": [],
   "source": [
    "duplicate_matrix = np.tile(np.arange(5), (5,1))"
   ]
  },
  {
   "cell_type": "code",
   "execution_count": 30,
   "id": "b30ac6ff-052d-4283-8214-e35ab5f23e37",
   "metadata": {},
   "outputs": [
    {
     "name": "stdout",
     "output_type": "stream",
     "text": [
      "[[0 1 2 3 4]\n",
      " [0 1 2 3 4]\n",
      " [0 1 2 3 4]\n",
      " [0 1 2 3 4]\n",
      " [0 1 2 3 4]]\n"
     ]
    }
   ],
   "source": [
    "print(duplicate_matrix)"
   ]
  },
  {
   "cell_type": "code",
   "execution_count": 35,
   "id": "5ed22756-8638-4fb5-8b68-1d495429e5b7",
   "metadata": {},
   "outputs": [],
   "source": [
    "zero_to_one_array = np.linspace(0.1,0.9,10)"
   ]
  },
  {
   "cell_type": "code",
   "execution_count": 36,
   "id": "ba8d2c54-f325-4dbb-95b3-4397310457fc",
   "metadata": {},
   "outputs": [
    {
     "name": "stdout",
     "output_type": "stream",
     "text": [
      "[0.1        0.18888889 0.27777778 0.36666667 0.45555556 0.54444444\n",
      " 0.63333333 0.72222222 0.81111111 0.9       ]\n"
     ]
    }
   ],
   "source": [
    "print(zero_to_one_array)"
   ]
  },
  {
   "cell_type": "code",
   "execution_count": 48,
   "id": "83756508-cdcb-4dcd-8139-2eb0bcb562e7",
   "metadata": {},
   "outputs": [],
   "source": [
    "vector_for_sorting = np.random.randint(1,10,size=10)"
   ]
  },
  {
   "cell_type": "code",
   "execution_count": 49,
   "id": "d2ef3124-2a0d-4458-abd6-54e0bd4889f4",
   "metadata": {},
   "outputs": [
    {
     "data": {
      "text/plain": [
       "array([9, 3, 5, 3, 8, 9, 6, 7, 8, 7])"
      ]
     },
     "execution_count": 49,
     "metadata": {},
     "output_type": "execute_result"
    }
   ],
   "source": [
    "vector_for_sorting"
   ]
  },
  {
   "cell_type": "code",
   "execution_count": 50,
   "id": "4f2a0139-4342-48eb-abdd-77963468c293",
   "metadata": {},
   "outputs": [],
   "source": [
    "sorted_vector = np.sort(vector_for_sorting)"
   ]
  },
  {
   "cell_type": "code",
   "execution_count": 51,
   "id": "fbf99463-7bf8-44e2-9196-f762d58b3b68",
   "metadata": {},
   "outputs": [
    {
     "name": "stdout",
     "output_type": "stream",
     "text": [
      "[3 3 5 6 7 7 8 8 9 9]\n"
     ]
    }
   ],
   "source": [
    "print(sorted_vector)"
   ]
  },
  {
   "cell_type": "code",
   "execution_count": 58,
   "id": "ca145ac8-91e4-4b12-95fe-15fdc57c7c55",
   "metadata": {},
   "outputs": [
    {
     "name": "stdout",
     "output_type": "stream",
     "text": [
      "Machine parameters for int8\n",
      "---------------------------------------------------------------\n",
      "min = -128\n",
      "max = 127\n",
      "---------------------------------------------------------------\n",
      "\n"
     ]
    }
   ],
   "source": [
    "print(np.iinfo('int8'))"
   ]
  },
  {
   "cell_type": "code",
   "execution_count": 66,
   "id": "fe14eb56-2daa-453e-b008-fca3e38d930f",
   "metadata": {},
   "outputs": [],
   "source": [
    "int_info = ['int8', 'int32', 'int64']"
   ]
  },
  {
   "cell_type": "code",
   "execution_count": 67,
   "id": "e1c43291-7ce4-4e39-b762-c63dabba7032",
   "metadata": {},
   "outputs": [],
   "source": [
    "float_info = ['float32', 'float64']"
   ]
  },
  {
   "cell_type": "code",
   "execution_count": 82,
   "id": "45ed477b-ba06-4905-90fc-abbcccdde69c",
   "metadata": {},
   "outputs": [
    {
     "name": "stdout",
     "output_type": "stream",
     "text": [
      "int8:\n",
      "Min value -128\n",
      "Max value 127\n",
      "\n",
      "int32:\n",
      "Min value -2147483648\n",
      "Max value 2147483647\n",
      "\n",
      "int64:\n",
      "Min value -9223372036854775808\n",
      "Max value 9223372036854775807\n",
      "\n",
      "float32:\n",
      "Min value -3.4028234663852886e+38\n",
      "Max value 3.4028234663852886e+38\n",
      "\n",
      "float64:\n",
      "Min value -1.7976931348623157e+308\n",
      "Max value 1.7976931348623157e+308\n",
      "\n"
     ]
    }
   ],
   "source": [
    "for int in int_info:\n",
    "    print(f\"{int}:\\nMin value {np.iinfo(int).min}\\nMax value {np.iinfo(int).max}\\n\")\n",
    "for float in float_info:\n",
    "    print(f\"{float}:\\nMin value {np.finfo(float).min}\\nMax value {np.finfo(float).max}\\n\")"
   ]
  },
  {
   "cell_type": "code",
   "execution_count": 83,
   "id": "29818436-a4d2-444d-8a3d-df3f7c477cc2",
   "metadata": {},
   "outputs": [],
   "source": [
    "float_array = np.array([1.5, 2.8, -3.2, 4.7, -5.9])"
   ]
  },
  {
   "cell_type": "code",
   "execution_count": 84,
   "id": "8a7538af-b806-49cc-aa8d-f89d35294863",
   "metadata": {},
   "outputs": [],
   "source": [
    "float_array_to_int = float_array.astype(np.int32)"
   ]
  },
  {
   "cell_type": "code",
   "execution_count": 85,
   "id": "88500a55-d834-4f32-b493-ede66879ef21",
   "metadata": {},
   "outputs": [
    {
     "name": "stdout",
     "output_type": "stream",
     "text": [
      "[ 1  2 -3  4 -5]\n"
     ]
    }
   ],
   "source": [
    "print(float_array_to_int)"
   ]
  },
  {
   "cell_type": "code",
   "execution_count": 86,
   "id": "6e2b0617-9ef5-454d-bc64-655a61a85740",
   "metadata": {},
   "outputs": [],
   "source": [
    "matrix_mean = matrix.mean(1)"
   ]
  },
  {
   "cell_type": "code",
   "execution_count": 87,
   "id": "f6725c84-f64e-4b6d-92fe-9bad678f1c4b",
   "metadata": {},
   "outputs": [
    {
     "name": "stdout",
     "output_type": "stream",
     "text": [
      "[1. 4. 7.]\n"
     ]
    }
   ],
   "source": [
    "print(matrix_mean)"
   ]
  },
  {
   "cell_type": "code",
   "execution_count": 88,
   "id": "646ae78e-6477-41e3-8685-1dba15a9e394",
   "metadata": {},
   "outputs": [
    {
     "data": {
      "text/plain": [
       "array([[0, 1, 2],\n",
       "       [3, 4, 5],\n",
       "       [6, 7, 8]])"
      ]
     },
     "execution_count": 88,
     "metadata": {},
     "output_type": "execute_result"
    }
   ],
   "source": [
    "matrix"
   ]
  },
  {
   "cell_type": "code",
   "execution_count": 93,
   "id": "b0a88f91-f62b-4377-ac55-a697143ffa50",
   "metadata": {},
   "outputs": [],
   "source": [
    "new_array = np.array([[122, 3, 4],\n",
    "                     [1, 3123, 3],\n",
    "                     [42, 6, 15]])"
   ]
  },
  {
   "cell_type": "code",
   "execution_count": 96,
   "id": "5e569b4c-3c5e-4b24-b944-39049ef4165c",
   "metadata": {},
   "outputs": [],
   "source": [
    "first_column_sorted_array = new_array[np.argsort(new_array[:, 0])]"
   ]
  },
  {
   "cell_type": "code",
   "execution_count": 101,
   "id": "29e60432-eef3-4cbe-89c4-60c4769a4792",
   "metadata": {},
   "outputs": [
    {
     "name": "stdout",
     "output_type": "stream",
     "text": [
      "[[   1 3123    3]\n",
      " [  42    6   15]\n",
      " [ 122    3    4]]\n"
     ]
    }
   ],
   "source": [
    "print(first_column_sorted_array)"
   ]
  },
  {
   "cell_type": "code",
   "execution_count": 102,
   "id": "9a410be0-6514-4d32-bef6-698b724a3d56",
   "metadata": {},
   "outputs": [],
   "source": [
    "swapped_array = first_column_sorted_array"
   ]
  },
  {
   "cell_type": "code",
   "execution_count": 103,
   "id": "7cd51c50-5038-4766-aa9d-917c3b692f9d",
   "metadata": {},
   "outputs": [],
   "source": [
    "swapped_array[[0,1]] = first_column_sorted_array[[1,0]]"
   ]
  },
  {
   "cell_type": "code",
   "execution_count": 104,
   "id": "eb279fd1-f480-437d-a2f1-a5f97d1e4cd5",
   "metadata": {},
   "outputs": [
    {
     "name": "stdout",
     "output_type": "stream",
     "text": [
      "[[  42    6   15]\n",
      " [   1 3123    3]\n",
      " [ 122    3    4]]\n"
     ]
    }
   ],
   "source": [
    "print(swapped_array)"
   ]
  },
  {
   "cell_type": "code",
   "execution_count": 134,
   "id": "3e170183-051e-4e55-887c-394a49128781",
   "metadata": {},
   "outputs": [],
   "source": [
    "random_array = np.array([1,5,6,4,5,1,2,3])"
   ]
  },
  {
   "cell_type": "code",
   "execution_count": 135,
   "id": "11c6dfb6-a43a-492d-9dca-b186602ba448",
   "metadata": {},
   "outputs": [],
   "source": [
    "C = np.bincount(random_array)"
   ]
  },
  {
   "cell_type": "code",
   "execution_count": 140,
   "id": "c6faa29a-0b48-4939-b9fc-cb476435c397",
   "metadata": {},
   "outputs": [],
   "source": [
    "A = np.repeat(np.arange(len(C)), C)"
   ]
  },
  {
   "cell_type": "code",
   "execution_count": 141,
   "id": "78595025-4279-45f0-a331-f16f63edcc3e",
   "metadata": {},
   "outputs": [
    {
     "name": "stdout",
     "output_type": "stream",
     "text": [
      "[0 2 1 1 1 2 1]\n"
     ]
    }
   ],
   "source": [
    "print(C)"
   ]
  },
  {
   "cell_type": "code",
   "execution_count": 142,
   "id": "45b04564-37f8-4342-8cd2-70e857502181",
   "metadata": {},
   "outputs": [
    {
     "name": "stdout",
     "output_type": "stream",
     "text": [
      "[0 2 1 1 1 2 1]\n"
     ]
    }
   ],
   "source": [
    "print(np.bincount(A))"
   ]
  }
 ],
 "metadata": {
  "kernelspec": {
   "display_name": "Python 3 (ipykernel)",
   "language": "python",
   "name": "python3"
  },
  "language_info": {
   "codemirror_mode": {
    "name": "ipython",
    "version": 3
   },
   "file_extension": ".py",
   "mimetype": "text/x-python",
   "name": "python",
   "nbconvert_exporter": "python",
   "pygments_lexer": "ipython3",
   "version": "3.11.3"
  }
 },
 "nbformat": 4,
 "nbformat_minor": 5
}
