{
 "cells": [
  {
   "cell_type": "code",
   "execution_count": 10,
   "id": "656192d8-30a5-4298-a7cc-f376e58749a7",
   "metadata": {},
   "outputs": [],
   "source": [
    "import pandas as pd\n",
    "import numpy as np"
   ]
  },
  {
   "cell_type": "code",
   "execution_count": 11,
   "id": "090ae5a8-6c19-49f5-b118-d1bc47ffce3e",
   "metadata": {},
   "outputs": [],
   "source": [
    "# SERIES - 1 dim array of labeled data"
   ]
  },
  {
   "cell_type": "code",
   "execution_count": 12,
   "id": "bcff705a-dacf-4861-995c-5bdd4065a2a7",
   "metadata": {},
   "outputs": [
    {
     "data": {
      "text/plain": [
       "0    A\n",
       "1    B\n",
       "2    C\n",
       "dtype: object"
      ]
     },
     "execution_count": 12,
     "metadata": {},
     "output_type": "execute_result"
    }
   ],
   "source": [
    "pd.Series(['A','B','C'])"
   ]
  },
  {
   "cell_type": "code",
   "execution_count": 13,
   "id": "a47d3dc1-0e86-4ae4-ab1f-1e75af587263",
   "metadata": {},
   "outputs": [],
   "source": [
    "# Dataframe – 2 dim array of labeled data"
   ]
  },
  {
   "cell_type": "code",
   "execution_count": 14,
   "id": "ff09cf31-1601-4fd8-aa9a-6167afe47948",
   "metadata": {},
   "outputs": [],
   "source": [
    "df = pd.DataFrame({\n",
    "    'Name': ['Yossi', 'Anna', 'Alex'],\n",
    "    'Color': ['Red', 'Blue', 'Yellow'],\n",
    "    'Random': [10.0, np.nan, np.nan]\n",
    "})"
   ]
  },
  {
   "cell_type": "code",
   "execution_count": 15,
   "id": "fafbabd3-86a6-42e9-89c1-6c929727dccd",
   "metadata": {},
   "outputs": [
    {
     "data": {
      "text/html": [
       "<div>\n",
       "<style scoped>\n",
       "    .dataframe tbody tr th:only-of-type {\n",
       "        vertical-align: middle;\n",
       "    }\n",
       "\n",
       "    .dataframe tbody tr th {\n",
       "        vertical-align: top;\n",
       "    }\n",
       "\n",
       "    .dataframe thead th {\n",
       "        text-align: right;\n",
       "    }\n",
       "</style>\n",
       "<table border=\"1\" class=\"dataframe\">\n",
       "  <thead>\n",
       "    <tr style=\"text-align: right;\">\n",
       "      <th></th>\n",
       "      <th>Name</th>\n",
       "      <th>Color</th>\n",
       "      <th>Random</th>\n",
       "    </tr>\n",
       "  </thead>\n",
       "  <tbody>\n",
       "    <tr>\n",
       "      <th>0</th>\n",
       "      <td>Yossi</td>\n",
       "      <td>Red</td>\n",
       "      <td>10.0</td>\n",
       "    </tr>\n",
       "    <tr>\n",
       "      <th>1</th>\n",
       "      <td>Anna</td>\n",
       "      <td>Blue</td>\n",
       "      <td>NaN</td>\n",
       "    </tr>\n",
       "    <tr>\n",
       "      <th>2</th>\n",
       "      <td>Alex</td>\n",
       "      <td>Yellow</td>\n",
       "      <td>NaN</td>\n",
       "    </tr>\n",
       "  </tbody>\n",
       "</table>\n",
       "</div>"
      ],
      "text/plain": [
       "    Name   Color  Random\n",
       "0  Yossi     Red    10.0\n",
       "1   Anna    Blue     NaN\n",
       "2   Alex  Yellow     NaN"
      ]
     },
     "execution_count": 15,
     "metadata": {},
     "output_type": "execute_result"
    }
   ],
   "source": [
    "df"
   ]
  },
  {
   "cell_type": "code",
   "execution_count": 16,
   "id": "1a1d0316-5c57-47bd-af93-9f5600a7d9ac",
   "metadata": {},
   "outputs": [
    {
     "data": {
      "text/plain": [
       "0    10.0\n",
       "1     NaN\n",
       "2     NaN\n",
       "Name: Random, dtype: float64"
      ]
     },
     "execution_count": 16,
     "metadata": {},
     "output_type": "execute_result"
    }
   ],
   "source": [
    "df['Random']"
   ]
  },
  {
   "cell_type": "code",
   "execution_count": 17,
   "id": "15e9b52d-0fba-4aa5-83dc-4bcbac416489",
   "metadata": {},
   "outputs": [],
   "source": [
    "# CSV file"
   ]
  },
  {
   "cell_type": "code",
   "execution_count": 20,
   "id": "502aa50a-e834-45c7-81ad-f5beb7fa0bf5",
   "metadata": {},
   "outputs": [],
   "source": [
    "df.to_csv('data', index=False)"
   ]
  },
  {
   "cell_type": "markdown",
   "id": "84ca0f4f-875b-4e61-ad84-c42febe98ecf",
   "metadata": {},
   "source": [
    "# Exercise 1"
   ]
  },
  {
   "cell_type": "code",
   "execution_count": 27,
   "id": "47420c3c-f346-4ff5-98d6-ac4995ea6f4e",
   "metadata": {},
   "outputs": [],
   "source": [
    "fruits = pd.Series({\n",
    "    'Apples': 20,\n",
    "    'Bananas': 30,\n",
    "    'Cherries': 15,\n",
    "    'Dates': 10\n",
    "})"
   ]
  },
  {
   "cell_type": "code",
   "execution_count": 28,
   "id": "3a22a333-5986-414c-95f7-dcf34ff25c93",
   "metadata": {},
   "outputs": [
    {
     "data": {
      "text/plain": [
       "Apples      20\n",
       "Bananas     30\n",
       "Cherries    15\n",
       "Dates       10\n",
       "dtype: int64"
      ]
     },
     "execution_count": 28,
     "metadata": {},
     "output_type": "execute_result"
    }
   ],
   "source": [
    "fruits"
   ]
  },
  {
   "cell_type": "code",
   "execution_count": 35,
   "id": "a8ca34d9-3e53-431b-b009-13a9a42f0739",
   "metadata": {},
   "outputs": [],
   "source": [
    "fruits_new = pd.DataFrame({\n",
    "   \"Quantity\": [20, 30, 15, 10],\n",
    "   \"Color\": ['Red', 'Yellow', 'Red', 'Brown'],\n",
    "   \"Price per kg\": [3, 2, 5, 5]\n",
    "}, index=[\"Apples\", \"Bananas\", \"Cherries\", 'Dates'])"
   ]
  },
  {
   "cell_type": "code",
   "execution_count": 36,
   "id": "88e0e629-40a7-47d9-814c-8e447a5efbbf",
   "metadata": {},
   "outputs": [
    {
     "data": {
      "text/html": [
       "<div>\n",
       "<style scoped>\n",
       "    .dataframe tbody tr th:only-of-type {\n",
       "        vertical-align: middle;\n",
       "    }\n",
       "\n",
       "    .dataframe tbody tr th {\n",
       "        vertical-align: top;\n",
       "    }\n",
       "\n",
       "    .dataframe thead th {\n",
       "        text-align: right;\n",
       "    }\n",
       "</style>\n",
       "<table border=\"1\" class=\"dataframe\">\n",
       "  <thead>\n",
       "    <tr style=\"text-align: right;\">\n",
       "      <th></th>\n",
       "      <th>Quantity</th>\n",
       "      <th>Color</th>\n",
       "      <th>Price per kg</th>\n",
       "    </tr>\n",
       "  </thead>\n",
       "  <tbody>\n",
       "    <tr>\n",
       "      <th>Apples</th>\n",
       "      <td>20</td>\n",
       "      <td>Red</td>\n",
       "      <td>3</td>\n",
       "    </tr>\n",
       "    <tr>\n",
       "      <th>Bananas</th>\n",
       "      <td>30</td>\n",
       "      <td>Yellow</td>\n",
       "      <td>2</td>\n",
       "    </tr>\n",
       "    <tr>\n",
       "      <th>Cherries</th>\n",
       "      <td>15</td>\n",
       "      <td>Red</td>\n",
       "      <td>5</td>\n",
       "    </tr>\n",
       "    <tr>\n",
       "      <th>Dates</th>\n",
       "      <td>10</td>\n",
       "      <td>Brown</td>\n",
       "      <td>5</td>\n",
       "    </tr>\n",
       "  </tbody>\n",
       "</table>\n",
       "</div>"
      ],
      "text/plain": [
       "          Quantity   Color  Price per kg\n",
       "Apples          20     Red             3\n",
       "Bananas         30  Yellow             2\n",
       "Cherries        15     Red             5\n",
       "Dates           10   Brown             5"
      ]
     },
     "execution_count": 36,
     "metadata": {},
     "output_type": "execute_result"
    }
   ],
   "source": [
    "fruits_new"
   ]
  },
  {
   "cell_type": "code",
   "execution_count": 50,
   "id": "31bb9c5d-657e-4b39-8ced-549d1f6c41a4",
   "metadata": {},
   "outputs": [],
   "source": [
    "fruits_new.to_csv('store_1_stock.csv', index=True)"
   ]
  },
  {
   "cell_type": "code",
   "execution_count": 51,
   "id": "6e3e3850-0205-4e9e-ae27-4053903d62c6",
   "metadata": {},
   "outputs": [],
   "source": [
    "store_1_stock = pd.read_csv('store_1_stock.csv', index_col = 0)"
   ]
  },
  {
   "cell_type": "code",
   "execution_count": 52,
   "id": "7b04b062-89a3-4fe7-95ae-a938982bb9f3",
   "metadata": {},
   "outputs": [
    {
     "data": {
      "text/html": [
       "<div>\n",
       "<style scoped>\n",
       "    .dataframe tbody tr th:only-of-type {\n",
       "        vertical-align: middle;\n",
       "    }\n",
       "\n",
       "    .dataframe tbody tr th {\n",
       "        vertical-align: top;\n",
       "    }\n",
       "\n",
       "    .dataframe thead th {\n",
       "        text-align: right;\n",
       "    }\n",
       "</style>\n",
       "<table border=\"1\" class=\"dataframe\">\n",
       "  <thead>\n",
       "    <tr style=\"text-align: right;\">\n",
       "      <th></th>\n",
       "      <th>Quantity</th>\n",
       "      <th>Color</th>\n",
       "      <th>Price per kg</th>\n",
       "    </tr>\n",
       "  </thead>\n",
       "  <tbody>\n",
       "    <tr>\n",
       "      <th>Apples</th>\n",
       "      <td>20</td>\n",
       "      <td>Red</td>\n",
       "      <td>3</td>\n",
       "    </tr>\n",
       "    <tr>\n",
       "      <th>Bananas</th>\n",
       "      <td>30</td>\n",
       "      <td>Yellow</td>\n",
       "      <td>2</td>\n",
       "    </tr>\n",
       "    <tr>\n",
       "      <th>Cherries</th>\n",
       "      <td>15</td>\n",
       "      <td>Red</td>\n",
       "      <td>5</td>\n",
       "    </tr>\n",
       "    <tr>\n",
       "      <th>Dates</th>\n",
       "      <td>10</td>\n",
       "      <td>Brown</td>\n",
       "      <td>5</td>\n",
       "    </tr>\n",
       "  </tbody>\n",
       "</table>\n",
       "</div>"
      ],
      "text/plain": [
       "          Quantity   Color  Price per kg\n",
       "Apples          20     Red             3\n",
       "Bananas         30  Yellow             2\n",
       "Cherries        15     Red             5\n",
       "Dates           10   Brown             5"
      ]
     },
     "execution_count": 52,
     "metadata": {},
     "output_type": "execute_result"
    }
   ],
   "source": [
    "store_1_stock"
   ]
  }
 ],
 "metadata": {
  "kernelspec": {
   "display_name": "Python 3 (ipykernel)",
   "language": "python",
   "name": "python3"
  },
  "language_info": {
   "codemirror_mode": {
    "name": "ipython",
    "version": 3
   },
   "file_extension": ".py",
   "mimetype": "text/x-python",
   "name": "python",
   "nbconvert_exporter": "python",
   "pygments_lexer": "ipython3",
   "version": "3.11.3"
  }
 },
 "nbformat": 4,
 "nbformat_minor": 5
}
