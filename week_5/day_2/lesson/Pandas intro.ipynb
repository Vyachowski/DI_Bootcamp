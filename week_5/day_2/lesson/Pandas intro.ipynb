{
 "cells": [
  {
   "cell_type": "markdown",
   "id": "d21d6525",
   "metadata": {},
   "source": [
    "pip install pandas"
   ]
  },
  {
   "cell_type": "code",
   "execution_count": 4,
   "id": "8dc00c09",
   "metadata": {},
   "outputs": [],
   "source": [
    "import pandas as pd\n",
    "import numpy as np"
   ]
  },
  {
   "cell_type": "code",
   "execution_count": 2,
   "id": "115318d1",
   "metadata": {},
   "outputs": [
    {
     "data": {
      "text/plain": [
       "0    A\n",
       "1    B\n",
       "2    C\n",
       "dtype: object"
      ]
     },
     "execution_count": 2,
     "metadata": {},
     "output_type": "execute_result"
    }
   ],
   "source": [
    "# Series - 1 dim array of labeled data\n",
    "pd.Series(['A', 'B', 'C'])"
   ]
  },
  {
   "cell_type": "code",
   "execution_count": 5,
   "id": "0c2772e4",
   "metadata": {},
   "outputs": [],
   "source": [
    "# Dataframe - 2 dim array of labeled data\n",
    "df = pd.DataFrame({\n",
    "    \"Name\": [\"Yossi\", \"Anna\", \"Alexey\"],\n",
    "    \"Color\": [\"Red\", \"Blue\", \"Yellow\"], \n",
    "    \"Random\": [10.0, np.nan, np.nan]\n",
    "})"
   ]
  },
  {
   "cell_type": "code",
   "execution_count": 6,
   "id": "3305fa21",
   "metadata": {},
   "outputs": [
    {
     "data": {
      "text/html": [
       "<div>\n",
       "<style scoped>\n",
       "    .dataframe tbody tr th:only-of-type {\n",
       "        vertical-align: middle;\n",
       "    }\n",
       "\n",
       "    .dataframe tbody tr th {\n",
       "        vertical-align: top;\n",
       "    }\n",
       "\n",
       "    .dataframe thead th {\n",
       "        text-align: right;\n",
       "    }\n",
       "</style>\n",
       "<table border=\"1\" class=\"dataframe\">\n",
       "  <thead>\n",
       "    <tr style=\"text-align: right;\">\n",
       "      <th></th>\n",
       "      <th>Name</th>\n",
       "      <th>Color</th>\n",
       "      <th>Random</th>\n",
       "    </tr>\n",
       "  </thead>\n",
       "  <tbody>\n",
       "    <tr>\n",
       "      <th>0</th>\n",
       "      <td>Yossi</td>\n",
       "      <td>Red</td>\n",
       "      <td>10.0</td>\n",
       "    </tr>\n",
       "    <tr>\n",
       "      <th>1</th>\n",
       "      <td>Anna</td>\n",
       "      <td>Blue</td>\n",
       "      <td>NaN</td>\n",
       "    </tr>\n",
       "    <tr>\n",
       "      <th>2</th>\n",
       "      <td>Alexey</td>\n",
       "      <td>Yellow</td>\n",
       "      <td>NaN</td>\n",
       "    </tr>\n",
       "  </tbody>\n",
       "</table>\n",
       "</div>"
      ],
      "text/plain": [
       "     Name   Color  Random\n",
       "0   Yossi     Red    10.0\n",
       "1    Anna    Blue     NaN\n",
       "2  Alexey  Yellow     NaN"
      ]
     },
     "execution_count": 6,
     "metadata": {},
     "output_type": "execute_result"
    }
   ],
   "source": [
    "df"
   ]
  },
  {
   "cell_type": "code",
   "execution_count": 7,
   "id": "3d26815f",
   "metadata": {},
   "outputs": [
    {
     "data": {
      "text/plain": [
       "0    10.0\n",
       "1     NaN\n",
       "2     NaN\n",
       "Name: Random, dtype: float64"
      ]
     },
     "execution_count": 7,
     "metadata": {},
     "output_type": "execute_result"
    }
   ],
   "source": [
    "df[\"Random\"]"
   ]
  },
  {
   "cell_type": "code",
   "execution_count": 9,
   "id": "30033602",
   "metadata": {},
   "outputs": [],
   "source": [
    "# CSV file , Comma seprated values\n",
    "df.to_csv('data.csv', index=False)"
   ]
  },
  {
   "cell_type": "markdown",
   "id": "673ad3ac",
   "metadata": {},
   "source": [
    "### Exercises"
   ]
  },
  {
   "cell_type": "code",
   "execution_count": 10,
   "id": "bba2e3ee",
   "metadata": {},
   "outputs": [
    {
     "data": {
      "text/plain": [
       "Apples      20\n",
       "Bananas     30\n",
       "Cherries    15\n",
       "Dates       10\n",
       "dtype: int64"
      ]
     },
     "execution_count": 10,
     "metadata": {},
     "output_type": "execute_result"
    }
   ],
   "source": [
    "# Apples      20\n",
    "# Bananas     30\n",
    "# Cherries    15\n",
    "# Dates       10\n",
    "# dtype: int64\n",
    "\n",
    "my_series = pd.Series([20,30,15,10], index=['Apples', 'Bananas', 'Cherries', 'Dates'])\n",
    "my_series"
   ]
  },
  {
   "cell_type": "code",
   "execution_count": 11,
   "id": "ecfe4b98",
   "metadata": {},
   "outputs": [],
   "source": [
    "#           Quantity   Color  Price per kg\n",
    "# Apples          20     Red             3\n",
    "# Bananas         30  Yellow             2\n",
    "# Cherries        15     Red             4\n",
    "# Dates           10   Brown             5\n",
    "fruit_names = ['Apples', 'Bananas', 'Cherries', 'Dates']\n",
    "\n",
    "quantities = [20,30,15,10]\n",
    "colors = ['Red', 'Yellow', 'Red', 'Brown']\n",
    "prices_per_kg = [3,2,4,5]\n",
    "\n",
    "my_df = pd.DataFrame({\n",
    "    'Quantity': quantities,\n",
    "    'Color': colors,\n",
    "    'Price_per_kg': prices_per_kg\n",
    "}, index = fruit_names)"
   ]
  },
  {
   "cell_type": "code",
   "execution_count": 12,
   "id": "51e513ff",
   "metadata": {},
   "outputs": [
    {
     "data": {
      "text/html": [
       "<div>\n",
       "<style scoped>\n",
       "    .dataframe tbody tr th:only-of-type {\n",
       "        vertical-align: middle;\n",
       "    }\n",
       "\n",
       "    .dataframe tbody tr th {\n",
       "        vertical-align: top;\n",
       "    }\n",
       "\n",
       "    .dataframe thead th {\n",
       "        text-align: right;\n",
       "    }\n",
       "</style>\n",
       "<table border=\"1\" class=\"dataframe\">\n",
       "  <thead>\n",
       "    <tr style=\"text-align: right;\">\n",
       "      <th></th>\n",
       "      <th>Quantity</th>\n",
       "      <th>Color</th>\n",
       "      <th>Price_per_kg</th>\n",
       "    </tr>\n",
       "  </thead>\n",
       "  <tbody>\n",
       "    <tr>\n",
       "      <th>Apples</th>\n",
       "      <td>20</td>\n",
       "      <td>Red</td>\n",
       "      <td>3</td>\n",
       "    </tr>\n",
       "    <tr>\n",
       "      <th>Bananas</th>\n",
       "      <td>30</td>\n",
       "      <td>Yellow</td>\n",
       "      <td>2</td>\n",
       "    </tr>\n",
       "    <tr>\n",
       "      <th>Cherries</th>\n",
       "      <td>15</td>\n",
       "      <td>Red</td>\n",
       "      <td>4</td>\n",
       "    </tr>\n",
       "    <tr>\n",
       "      <th>Dates</th>\n",
       "      <td>10</td>\n",
       "      <td>Brown</td>\n",
       "      <td>5</td>\n",
       "    </tr>\n",
       "  </tbody>\n",
       "</table>\n",
       "</div>"
      ],
      "text/plain": [
       "          Quantity   Color  Price_per_kg\n",
       "Apples          20     Red             3\n",
       "Bananas         30  Yellow             2\n",
       "Cherries        15     Red             4\n",
       "Dates           10   Brown             5"
      ]
     },
     "execution_count": 12,
     "metadata": {},
     "output_type": "execute_result"
    }
   ],
   "source": [
    "my_df"
   ]
  },
  {
   "cell_type": "code",
   "execution_count": 15,
   "id": "b55bf11e",
   "metadata": {},
   "outputs": [
    {
     "data": {
      "text/plain": [
       "Quantity         20\n",
       "Color           Red\n",
       "Price_per_kg      3\n",
       "Name: Apples, dtype: object"
      ]
     },
     "execution_count": 15,
     "metadata": {},
     "output_type": "execute_result"
    }
   ],
   "source": [
    "my_df.loc['Apples']"
   ]
  },
  {
   "cell_type": "code",
   "execution_count": 16,
   "id": "1675f96f",
   "metadata": {},
   "outputs": [
    {
     "data": {
      "text/plain": [
       "Quantity            30\n",
       "Color           Yellow\n",
       "Price_per_kg         2\n",
       "Name: Bananas, dtype: object"
      ]
     },
     "execution_count": 16,
     "metadata": {},
     "output_type": "execute_result"
    }
   ],
   "source": [
    "my_df.iloc[1]"
   ]
  },
  {
   "cell_type": "code",
   "execution_count": 17,
   "id": "5566b746",
   "metadata": {},
   "outputs": [],
   "source": [
    "my_df.to_csv('my_df.csv')"
   ]
  },
  {
   "cell_type": "code",
   "execution_count": 20,
   "id": "022c04a4",
   "metadata": {},
   "outputs": [],
   "source": [
    "# 4 - read csv from computer with index column\n",
    "df_read = pd.read_csv('my_df.csv', index_col=0)"
   ]
  },
  {
   "cell_type": "code",
   "execution_count": 21,
   "id": "5960e87f",
   "metadata": {},
   "outputs": [
    {
     "data": {
      "text/html": [
       "<div>\n",
       "<style scoped>\n",
       "    .dataframe tbody tr th:only-of-type {\n",
       "        vertical-align: middle;\n",
       "    }\n",
       "\n",
       "    .dataframe tbody tr th {\n",
       "        vertical-align: top;\n",
       "    }\n",
       "\n",
       "    .dataframe thead th {\n",
       "        text-align: right;\n",
       "    }\n",
       "</style>\n",
       "<table border=\"1\" class=\"dataframe\">\n",
       "  <thead>\n",
       "    <tr style=\"text-align: right;\">\n",
       "      <th></th>\n",
       "      <th>Quantity</th>\n",
       "      <th>Color</th>\n",
       "      <th>Price_per_kg</th>\n",
       "    </tr>\n",
       "  </thead>\n",
       "  <tbody>\n",
       "    <tr>\n",
       "      <th>Apples</th>\n",
       "      <td>20</td>\n",
       "      <td>Red</td>\n",
       "      <td>3</td>\n",
       "    </tr>\n",
       "    <tr>\n",
       "      <th>Bananas</th>\n",
       "      <td>30</td>\n",
       "      <td>Yellow</td>\n",
       "      <td>2</td>\n",
       "    </tr>\n",
       "    <tr>\n",
       "      <th>Cherries</th>\n",
       "      <td>15</td>\n",
       "      <td>Red</td>\n",
       "      <td>4</td>\n",
       "    </tr>\n",
       "    <tr>\n",
       "      <th>Dates</th>\n",
       "      <td>10</td>\n",
       "      <td>Brown</td>\n",
       "      <td>5</td>\n",
       "    </tr>\n",
       "  </tbody>\n",
       "</table>\n",
       "</div>"
      ],
      "text/plain": [
       "          Quantity   Color  Price_per_kg\n",
       "Apples          20     Red             3\n",
       "Bananas         30  Yellow             2\n",
       "Cherries        15     Red             4\n",
       "Dates           10   Brown             5"
      ]
     },
     "execution_count": 21,
     "metadata": {},
     "output_type": "execute_result"
    }
   ],
   "source": [
    "df_read"
   ]
  },
  {
   "cell_type": "code",
   "execution_count": 25,
   "id": "9419c255",
   "metadata": {},
   "outputs": [],
   "source": [
    "df_read.loc['Dates','Color'] = np.nan"
   ]
  },
  {
   "cell_type": "code",
   "execution_count": 26,
   "id": "0320ffa7",
   "metadata": {},
   "outputs": [
    {
     "data": {
      "text/html": [
       "<div>\n",
       "<style scoped>\n",
       "    .dataframe tbody tr th:only-of-type {\n",
       "        vertical-align: middle;\n",
       "    }\n",
       "\n",
       "    .dataframe tbody tr th {\n",
       "        vertical-align: top;\n",
       "    }\n",
       "\n",
       "    .dataframe thead th {\n",
       "        text-align: right;\n",
       "    }\n",
       "</style>\n",
       "<table border=\"1\" class=\"dataframe\">\n",
       "  <thead>\n",
       "    <tr style=\"text-align: right;\">\n",
       "      <th></th>\n",
       "      <th>Quantity</th>\n",
       "      <th>Color</th>\n",
       "      <th>Price_per_kg</th>\n",
       "    </tr>\n",
       "  </thead>\n",
       "  <tbody>\n",
       "    <tr>\n",
       "      <th>Apples</th>\n",
       "      <td>20</td>\n",
       "      <td>Red</td>\n",
       "      <td>3</td>\n",
       "    </tr>\n",
       "    <tr>\n",
       "      <th>Bananas</th>\n",
       "      <td>30</td>\n",
       "      <td>Yellow</td>\n",
       "      <td>2</td>\n",
       "    </tr>\n",
       "    <tr>\n",
       "      <th>Cherries</th>\n",
       "      <td>15</td>\n",
       "      <td>Red</td>\n",
       "      <td>4</td>\n",
       "    </tr>\n",
       "    <tr>\n",
       "      <th>Dates</th>\n",
       "      <td>10</td>\n",
       "      <td>NaN</td>\n",
       "      <td>5</td>\n",
       "    </tr>\n",
       "  </tbody>\n",
       "</table>\n",
       "</div>"
      ],
      "text/plain": [
       "          Quantity   Color  Price_per_kg\n",
       "Apples          20     Red             3\n",
       "Bananas         30  Yellow             2\n",
       "Cherries        15     Red             4\n",
       "Dates           10     NaN             5"
      ]
     },
     "execution_count": 26,
     "metadata": {},
     "output_type": "execute_result"
    }
   ],
   "source": [
    "df_read"
   ]
  },
  {
   "cell_type": "code",
   "execution_count": 23,
   "id": "5e670ae9",
   "metadata": {},
   "outputs": [
    {
     "data": {
      "text/plain": [
       "'Brown'"
      ]
     },
     "execution_count": 23,
     "metadata": {},
     "output_type": "execute_result"
    }
   ],
   "source": [
    "df_read.loc['Dates','Color']"
   ]
  },
  {
   "cell_type": "code",
   "execution_count": 24,
   "id": "48f6682d",
   "metadata": {},
   "outputs": [
    {
     "data": {
      "text/plain": [
       "'Brown'"
      ]
     },
     "execution_count": 24,
     "metadata": {},
     "output_type": "execute_result"
    }
   ],
   "source": [
    "df_read.loc['Dates']['Color']"
   ]
  },
  {
   "cell_type": "code",
   "execution_count": 30,
   "id": "976cfb72",
   "metadata": {},
   "outputs": [
    {
     "data": {
      "text/html": [
       "<div>\n",
       "<style scoped>\n",
       "    .dataframe tbody tr th:only-of-type {\n",
       "        vertical-align: middle;\n",
       "    }\n",
       "\n",
       "    .dataframe tbody tr th {\n",
       "        vertical-align: top;\n",
       "    }\n",
       "\n",
       "    .dataframe thead th {\n",
       "        text-align: right;\n",
       "    }\n",
       "</style>\n",
       "<table border=\"1\" class=\"dataframe\">\n",
       "  <thead>\n",
       "    <tr style=\"text-align: right;\">\n",
       "      <th></th>\n",
       "      <th>Quantity</th>\n",
       "      <th>Color</th>\n",
       "      <th>Price_per_kg</th>\n",
       "    </tr>\n",
       "  </thead>\n",
       "  <tbody>\n",
       "    <tr>\n",
       "      <th>Dates</th>\n",
       "      <td>10</td>\n",
       "      <td>NaN</td>\n",
       "      <td>5</td>\n",
       "    </tr>\n",
       "    <tr>\n",
       "      <th>Cherries</th>\n",
       "      <td>15</td>\n",
       "      <td>Red</td>\n",
       "      <td>4</td>\n",
       "    </tr>\n",
       "    <tr>\n",
       "      <th>Apples</th>\n",
       "      <td>20</td>\n",
       "      <td>Red</td>\n",
       "      <td>3</td>\n",
       "    </tr>\n",
       "  </tbody>\n",
       "</table>\n",
       "</div>"
      ],
      "text/plain": [
       "          Quantity Color  Price_per_kg\n",
       "Dates           10   NaN             5\n",
       "Cherries        15   Red             4\n",
       "Apples          20   Red             3"
      ]
     },
     "execution_count": 30,
     "metadata": {},
     "output_type": "execute_result"
    }
   ],
   "source": [
    "df_read.nlargest(3, 'Price_per_kg')"
   ]
  },
  {
   "cell_type": "code",
   "execution_count": 31,
   "id": "dae90f29",
   "metadata": {},
   "outputs": [
    {
     "data": {
      "text/plain": [
       "Apples      3\n",
       "Bananas     2\n",
       "Cherries    4\n",
       "Dates       5\n",
       "Name: Price_per_kg, dtype: int64"
      ]
     },
     "execution_count": 31,
     "metadata": {},
     "output_type": "execute_result"
    }
   ],
   "source": [
    "df_read['Price_per_kg']"
   ]
  },
  {
   "cell_type": "code",
   "execution_count": 32,
   "id": "9047bf22",
   "metadata": {},
   "outputs": [],
   "source": [
    "df_read['Price_per_kg'] = df_read['Price_per_kg'].astype('float16')"
   ]
  },
  {
   "cell_type": "code",
   "execution_count": 33,
   "id": "d70308ac",
   "metadata": {},
   "outputs": [
    {
     "data": {
      "text/html": [
       "<div>\n",
       "<style scoped>\n",
       "    .dataframe tbody tr th:only-of-type {\n",
       "        vertical-align: middle;\n",
       "    }\n",
       "\n",
       "    .dataframe tbody tr th {\n",
       "        vertical-align: top;\n",
       "    }\n",
       "\n",
       "    .dataframe thead th {\n",
       "        text-align: right;\n",
       "    }\n",
       "</style>\n",
       "<table border=\"1\" class=\"dataframe\">\n",
       "  <thead>\n",
       "    <tr style=\"text-align: right;\">\n",
       "      <th></th>\n",
       "      <th>Quantity</th>\n",
       "      <th>Color</th>\n",
       "      <th>Price_per_kg</th>\n",
       "    </tr>\n",
       "  </thead>\n",
       "  <tbody>\n",
       "    <tr>\n",
       "      <th>Dates</th>\n",
       "      <td>10</td>\n",
       "      <td>NaN</td>\n",
       "      <td>5.0</td>\n",
       "    </tr>\n",
       "    <tr>\n",
       "      <th>Cherries</th>\n",
       "      <td>15</td>\n",
       "      <td>Red</td>\n",
       "      <td>4.0</td>\n",
       "    </tr>\n",
       "    <tr>\n",
       "      <th>Apples</th>\n",
       "      <td>20</td>\n",
       "      <td>Red</td>\n",
       "      <td>3.0</td>\n",
       "    </tr>\n",
       "  </tbody>\n",
       "</table>\n",
       "</div>"
      ],
      "text/plain": [
       "          Quantity Color  Price_per_kg\n",
       "Dates           10   NaN           5.0\n",
       "Cherries        15   Red           4.0\n",
       "Apples          20   Red           3.0"
      ]
     },
     "execution_count": 33,
     "metadata": {},
     "output_type": "execute_result"
    }
   ],
   "source": [
    "df_read.nlargest(3, 'Price_per_kg')"
   ]
  },
  {
   "cell_type": "markdown",
   "id": "331061dc",
   "metadata": {},
   "source": [
    "### Exercises"
   ]
  },
  {
   "cell_type": "code",
   "execution_count": 34,
   "id": "fe966424",
   "metadata": {},
   "outputs": [
    {
     "data": {
      "text/html": [
       "<div>\n",
       "<style scoped>\n",
       "    .dataframe tbody tr th:only-of-type {\n",
       "        vertical-align: middle;\n",
       "    }\n",
       "\n",
       "    .dataframe tbody tr th {\n",
       "        vertical-align: top;\n",
       "    }\n",
       "\n",
       "    .dataframe thead th {\n",
       "        text-align: right;\n",
       "    }\n",
       "</style>\n",
       "<table border=\"1\" class=\"dataframe\">\n",
       "  <thead>\n",
       "    <tr style=\"text-align: right;\">\n",
       "      <th></th>\n",
       "      <th>Quantity</th>\n",
       "      <th>Color</th>\n",
       "      <th>Price_per_kg</th>\n",
       "    </tr>\n",
       "  </thead>\n",
       "  <tbody>\n",
       "    <tr>\n",
       "      <th>Apples</th>\n",
       "      <td>20</td>\n",
       "      <td>Red</td>\n",
       "      <td>3.0</td>\n",
       "    </tr>\n",
       "    <tr>\n",
       "      <th>Bananas</th>\n",
       "      <td>30</td>\n",
       "      <td>Yellow</td>\n",
       "      <td>2.0</td>\n",
       "    </tr>\n",
       "  </tbody>\n",
       "</table>\n",
       "</div>"
      ],
      "text/plain": [
       "         Quantity   Color  Price_per_kg\n",
       "Apples         20     Red           3.0\n",
       "Bananas        30  Yellow           2.0"
      ]
     },
     "execution_count": 34,
     "metadata": {},
     "output_type": "execute_result"
    }
   ],
   "source": [
    "df_read.head(2)"
   ]
  },
  {
   "cell_type": "code",
   "execution_count": 35,
   "id": "80781791",
   "metadata": {},
   "outputs": [
    {
     "data": {
      "text/html": [
       "<div>\n",
       "<style scoped>\n",
       "    .dataframe tbody tr th:only-of-type {\n",
       "        vertical-align: middle;\n",
       "    }\n",
       "\n",
       "    .dataframe tbody tr th {\n",
       "        vertical-align: top;\n",
       "    }\n",
       "\n",
       "    .dataframe thead th {\n",
       "        text-align: right;\n",
       "    }\n",
       "</style>\n",
       "<table border=\"1\" class=\"dataframe\">\n",
       "  <thead>\n",
       "    <tr style=\"text-align: right;\">\n",
       "      <th></th>\n",
       "      <th>Quantity</th>\n",
       "      <th>Color</th>\n",
       "      <th>Price_per_kg</th>\n",
       "    </tr>\n",
       "  </thead>\n",
       "  <tbody>\n",
       "    <tr>\n",
       "      <th>Cherries</th>\n",
       "      <td>15</td>\n",
       "      <td>Red</td>\n",
       "      <td>4.0</td>\n",
       "    </tr>\n",
       "    <tr>\n",
       "      <th>Dates</th>\n",
       "      <td>10</td>\n",
       "      <td>NaN</td>\n",
       "      <td>5.0</td>\n",
       "    </tr>\n",
       "  </tbody>\n",
       "</table>\n",
       "</div>"
      ],
      "text/plain": [
       "          Quantity Color  Price_per_kg\n",
       "Cherries        15   Red           4.0\n",
       "Dates           10   NaN           5.0"
      ]
     },
     "execution_count": 35,
     "metadata": {},
     "output_type": "execute_result"
    }
   ],
   "source": [
    "df_read.tail(2)"
   ]
  },
  {
   "cell_type": "code",
   "execution_count": 36,
   "id": "c5262113",
   "metadata": {},
   "outputs": [
    {
     "name": "stdout",
     "output_type": "stream",
     "text": [
      "<class 'pandas.core.frame.DataFrame'>\n",
      "Index: 4 entries, Apples to Dates\n",
      "Data columns (total 3 columns):\n",
      " #   Column        Non-Null Count  Dtype  \n",
      "---  ------        --------------  -----  \n",
      " 0   Quantity      4 non-null      int64  \n",
      " 1   Color         3 non-null      object \n",
      " 2   Price_per_kg  4 non-null      float16\n",
      "dtypes: float16(1), int64(1), object(1)\n",
      "memory usage: 276.0+ bytes\n"
     ]
    }
   ],
   "source": [
    "df_read.info()"
   ]
  },
  {
   "cell_type": "code",
   "execution_count": 37,
   "id": "c0f460c8",
   "metadata": {},
   "outputs": [
    {
     "data": {
      "text/html": [
       "<div>\n",
       "<style scoped>\n",
       "    .dataframe tbody tr th:only-of-type {\n",
       "        vertical-align: middle;\n",
       "    }\n",
       "\n",
       "    .dataframe tbody tr th {\n",
       "        vertical-align: top;\n",
       "    }\n",
       "\n",
       "    .dataframe thead th {\n",
       "        text-align: right;\n",
       "    }\n",
       "</style>\n",
       "<table border=\"1\" class=\"dataframe\">\n",
       "  <thead>\n",
       "    <tr style=\"text-align: right;\">\n",
       "      <th></th>\n",
       "      <th>Quantity</th>\n",
       "      <th>Price_per_kg</th>\n",
       "    </tr>\n",
       "  </thead>\n",
       "  <tbody>\n",
       "    <tr>\n",
       "      <th>count</th>\n",
       "      <td>4.000000</td>\n",
       "      <td>4.000000</td>\n",
       "    </tr>\n",
       "    <tr>\n",
       "      <th>mean</th>\n",
       "      <td>18.750000</td>\n",
       "      <td>3.500000</td>\n",
       "    </tr>\n",
       "    <tr>\n",
       "      <th>std</th>\n",
       "      <td>8.539126</td>\n",
       "      <td>1.291016</td>\n",
       "    </tr>\n",
       "    <tr>\n",
       "      <th>min</th>\n",
       "      <td>10.000000</td>\n",
       "      <td>2.000000</td>\n",
       "    </tr>\n",
       "    <tr>\n",
       "      <th>25%</th>\n",
       "      <td>13.750000</td>\n",
       "      <td>2.750000</td>\n",
       "    </tr>\n",
       "    <tr>\n",
       "      <th>50%</th>\n",
       "      <td>17.500000</td>\n",
       "      <td>3.500000</td>\n",
       "    </tr>\n",
       "    <tr>\n",
       "      <th>75%</th>\n",
       "      <td>22.500000</td>\n",
       "      <td>4.250000</td>\n",
       "    </tr>\n",
       "    <tr>\n",
       "      <th>max</th>\n",
       "      <td>30.000000</td>\n",
       "      <td>5.000000</td>\n",
       "    </tr>\n",
       "  </tbody>\n",
       "</table>\n",
       "</div>"
      ],
      "text/plain": [
       "        Quantity  Price_per_kg\n",
       "count   4.000000      4.000000\n",
       "mean   18.750000      3.500000\n",
       "std     8.539126      1.291016\n",
       "min    10.000000      2.000000\n",
       "25%    13.750000      2.750000\n",
       "50%    17.500000      3.500000\n",
       "75%    22.500000      4.250000\n",
       "max    30.000000      5.000000"
      ]
     },
     "execution_count": 37,
     "metadata": {},
     "output_type": "execute_result"
    }
   ],
   "source": [
    "df_read.describe()"
   ]
  },
  {
   "cell_type": "markdown",
   "id": "e0ab8d34",
   "metadata": {},
   "source": [
    "4. What is the total quantity of fruits in the store? What are the top three fruits in the store by quantity?"
   ]
  },
  {
   "cell_type": "code",
   "execution_count": 38,
   "id": "be792084",
   "metadata": {},
   "outputs": [
    {
     "data": {
      "text/plain": [
       "75"
      ]
     },
     "execution_count": 38,
     "metadata": {},
     "output_type": "execute_result"
    }
   ],
   "source": [
    "df_read['Quantity'].sum()"
   ]
  },
  {
   "cell_type": "code",
   "execution_count": 39,
   "id": "cb90b03d",
   "metadata": {},
   "outputs": [
    {
     "data": {
      "text/html": [
       "<div>\n",
       "<style scoped>\n",
       "    .dataframe tbody tr th:only-of-type {\n",
       "        vertical-align: middle;\n",
       "    }\n",
       "\n",
       "    .dataframe tbody tr th {\n",
       "        vertical-align: top;\n",
       "    }\n",
       "\n",
       "    .dataframe thead th {\n",
       "        text-align: right;\n",
       "    }\n",
       "</style>\n",
       "<table border=\"1\" class=\"dataframe\">\n",
       "  <thead>\n",
       "    <tr style=\"text-align: right;\">\n",
       "      <th></th>\n",
       "      <th>Quantity</th>\n",
       "      <th>Color</th>\n",
       "      <th>Price_per_kg</th>\n",
       "    </tr>\n",
       "  </thead>\n",
       "  <tbody>\n",
       "    <tr>\n",
       "      <th>Bananas</th>\n",
       "      <td>30</td>\n",
       "      <td>Yellow</td>\n",
       "      <td>2.0</td>\n",
       "    </tr>\n",
       "    <tr>\n",
       "      <th>Apples</th>\n",
       "      <td>20</td>\n",
       "      <td>Red</td>\n",
       "      <td>3.0</td>\n",
       "    </tr>\n",
       "    <tr>\n",
       "      <th>Cherries</th>\n",
       "      <td>15</td>\n",
       "      <td>Red</td>\n",
       "      <td>4.0</td>\n",
       "    </tr>\n",
       "  </tbody>\n",
       "</table>\n",
       "</div>"
      ],
      "text/plain": [
       "          Quantity   Color  Price_per_kg\n",
       "Bananas         30  Yellow           2.0\n",
       "Apples          20     Red           3.0\n",
       "Cherries        15     Red           4.0"
      ]
     },
     "execution_count": 39,
     "metadata": {},
     "output_type": "execute_result"
    }
   ],
   "source": [
    "df_read.nlargest(3, 'Quantity')"
   ]
  },
  {
   "cell_type": "markdown",
   "id": "524bebae",
   "metadata": {},
   "source": [
    "---"
   ]
  },
  {
   "cell_type": "markdown",
   "id": "0c3d7948",
   "metadata": {},
   "source": [
    "5. Set the index Fruit -> use loc, iloc to get the Banana index info\n",
    "- df.set_index('Fruit', inplace=True)"
   ]
  },
  {
   "cell_type": "code",
   "execution_count": 41,
   "id": "c0718aae",
   "metadata": {},
   "outputs": [
    {
     "data": {
      "text/plain": [
       "Quantity            30\n",
       "Color           Yellow\n",
       "Price_per_kg       2.0\n",
       "Name: Bananas, dtype: object"
      ]
     },
     "execution_count": 41,
     "metadata": {},
     "output_type": "execute_result"
    }
   ],
   "source": [
    "df_read.loc['Bananas']"
   ]
  },
  {
   "cell_type": "code",
   "execution_count": 42,
   "id": "dd608ef9",
   "metadata": {},
   "outputs": [
    {
     "data": {
      "text/plain": [
       "Quantity            30\n",
       "Color           Yellow\n",
       "Price_per_kg       2.0\n",
       "Name: Bananas, dtype: object"
      ]
     },
     "execution_count": 42,
     "metadata": {},
     "output_type": "execute_result"
    }
   ],
   "source": [
    "df_read.iloc[1]"
   ]
  },
  {
   "cell_type": "markdown",
   "id": "34f72e27",
   "metadata": {},
   "source": [
    "---"
   ]
  },
  {
   "cell_type": "markdown",
   "id": "7de47206",
   "metadata": {},
   "source": [
    "6. Let's suppose the store is running a sale, and all fruits are sold at 90% of their original price.\n",
    "\n",
    "- Add a new column named Sale_Price to the DataFrame that is 90% of the original price.\n",
    "\n",
    "- Rename the Price column to Original_Price.\n",
    "\n",
    "- Remove the Color column from the DataFrame."
   ]
  },
  {
   "cell_type": "code",
   "execution_count": 46,
   "id": "9f008804",
   "metadata": {},
   "outputs": [],
   "source": [
    "df_read['Sale_Price'] = df_read['Price_per_kg'] * 0.9"
   ]
  },
  {
   "cell_type": "code",
   "execution_count": 47,
   "id": "34b03fbc",
   "metadata": {},
   "outputs": [
    {
     "data": {
      "text/html": [
       "<div>\n",
       "<style scoped>\n",
       "    .dataframe tbody tr th:only-of-type {\n",
       "        vertical-align: middle;\n",
       "    }\n",
       "\n",
       "    .dataframe tbody tr th {\n",
       "        vertical-align: top;\n",
       "    }\n",
       "\n",
       "    .dataframe thead th {\n",
       "        text-align: right;\n",
       "    }\n",
       "</style>\n",
       "<table border=\"1\" class=\"dataframe\">\n",
       "  <thead>\n",
       "    <tr style=\"text-align: right;\">\n",
       "      <th></th>\n",
       "      <th>Quantity</th>\n",
       "      <th>Color</th>\n",
       "      <th>Price_per_kg</th>\n",
       "      <th>Sale_Price</th>\n",
       "    </tr>\n",
       "  </thead>\n",
       "  <tbody>\n",
       "    <tr>\n",
       "      <th>Apples</th>\n",
       "      <td>20</td>\n",
       "      <td>Red</td>\n",
       "      <td>3.0</td>\n",
       "      <td>2.699219</td>\n",
       "    </tr>\n",
       "    <tr>\n",
       "      <th>Bananas</th>\n",
       "      <td>30</td>\n",
       "      <td>Yellow</td>\n",
       "      <td>2.0</td>\n",
       "      <td>1.799805</td>\n",
       "    </tr>\n",
       "    <tr>\n",
       "      <th>Cherries</th>\n",
       "      <td>15</td>\n",
       "      <td>Red</td>\n",
       "      <td>4.0</td>\n",
       "      <td>3.599609</td>\n",
       "    </tr>\n",
       "    <tr>\n",
       "      <th>Dates</th>\n",
       "      <td>10</td>\n",
       "      <td>NaN</td>\n",
       "      <td>5.0</td>\n",
       "      <td>4.500000</td>\n",
       "    </tr>\n",
       "  </tbody>\n",
       "</table>\n",
       "</div>"
      ],
      "text/plain": [
       "          Quantity   Color  Price_per_kg  Sale_Price\n",
       "Apples          20     Red           3.0    2.699219\n",
       "Bananas         30  Yellow           2.0    1.799805\n",
       "Cherries        15     Red           4.0    3.599609\n",
       "Dates           10     NaN           5.0    4.500000"
      ]
     },
     "execution_count": 47,
     "metadata": {},
     "output_type": "execute_result"
    }
   ],
   "source": [
    "df_read"
   ]
  },
  {
   "cell_type": "code",
   "execution_count": 48,
   "id": "76f4fb4b",
   "metadata": {},
   "outputs": [],
   "source": [
    "df_read.rename(columns={'Price_per_kg': 'Original_Price'}, inplace=True)"
   ]
  },
  {
   "cell_type": "code",
   "execution_count": 49,
   "id": "35b2dd28",
   "metadata": {},
   "outputs": [
    {
     "data": {
      "text/html": [
       "<div>\n",
       "<style scoped>\n",
       "    .dataframe tbody tr th:only-of-type {\n",
       "        vertical-align: middle;\n",
       "    }\n",
       "\n",
       "    .dataframe tbody tr th {\n",
       "        vertical-align: top;\n",
       "    }\n",
       "\n",
       "    .dataframe thead th {\n",
       "        text-align: right;\n",
       "    }\n",
       "</style>\n",
       "<table border=\"1\" class=\"dataframe\">\n",
       "  <thead>\n",
       "    <tr style=\"text-align: right;\">\n",
       "      <th></th>\n",
       "      <th>Quantity</th>\n",
       "      <th>Color</th>\n",
       "      <th>Original_Price</th>\n",
       "      <th>Sale_Price</th>\n",
       "    </tr>\n",
       "  </thead>\n",
       "  <tbody>\n",
       "    <tr>\n",
       "      <th>Apples</th>\n",
       "      <td>20</td>\n",
       "      <td>Red</td>\n",
       "      <td>3.0</td>\n",
       "      <td>2.699219</td>\n",
       "    </tr>\n",
       "    <tr>\n",
       "      <th>Bananas</th>\n",
       "      <td>30</td>\n",
       "      <td>Yellow</td>\n",
       "      <td>2.0</td>\n",
       "      <td>1.799805</td>\n",
       "    </tr>\n",
       "    <tr>\n",
       "      <th>Cherries</th>\n",
       "      <td>15</td>\n",
       "      <td>Red</td>\n",
       "      <td>4.0</td>\n",
       "      <td>3.599609</td>\n",
       "    </tr>\n",
       "    <tr>\n",
       "      <th>Dates</th>\n",
       "      <td>10</td>\n",
       "      <td>NaN</td>\n",
       "      <td>5.0</td>\n",
       "      <td>4.500000</td>\n",
       "    </tr>\n",
       "  </tbody>\n",
       "</table>\n",
       "</div>"
      ],
      "text/plain": [
       "          Quantity   Color  Original_Price  Sale_Price\n",
       "Apples          20     Red             3.0    2.699219\n",
       "Bananas         30  Yellow             2.0    1.799805\n",
       "Cherries        15     Red             4.0    3.599609\n",
       "Dates           10     NaN             5.0    4.500000"
      ]
     },
     "execution_count": 49,
     "metadata": {},
     "output_type": "execute_result"
    }
   ],
   "source": [
    "df_read"
   ]
  },
  {
   "cell_type": "code",
   "execution_count": 51,
   "id": "af5831ef",
   "metadata": {},
   "outputs": [],
   "source": [
    "df_read.drop('Color', axis=1, inplace=True)"
   ]
  },
  {
   "cell_type": "code",
   "execution_count": 52,
   "id": "0a9ea81b",
   "metadata": {},
   "outputs": [
    {
     "data": {
      "text/html": [
       "<div>\n",
       "<style scoped>\n",
       "    .dataframe tbody tr th:only-of-type {\n",
       "        vertical-align: middle;\n",
       "    }\n",
       "\n",
       "    .dataframe tbody tr th {\n",
       "        vertical-align: top;\n",
       "    }\n",
       "\n",
       "    .dataframe thead th {\n",
       "        text-align: right;\n",
       "    }\n",
       "</style>\n",
       "<table border=\"1\" class=\"dataframe\">\n",
       "  <thead>\n",
       "    <tr style=\"text-align: right;\">\n",
       "      <th></th>\n",
       "      <th>Quantity</th>\n",
       "      <th>Original_Price</th>\n",
       "      <th>Sale_Price</th>\n",
       "    </tr>\n",
       "  </thead>\n",
       "  <tbody>\n",
       "    <tr>\n",
       "      <th>Apples</th>\n",
       "      <td>20</td>\n",
       "      <td>3.0</td>\n",
       "      <td>2.699219</td>\n",
       "    </tr>\n",
       "    <tr>\n",
       "      <th>Bananas</th>\n",
       "      <td>30</td>\n",
       "      <td>2.0</td>\n",
       "      <td>1.799805</td>\n",
       "    </tr>\n",
       "    <tr>\n",
       "      <th>Cherries</th>\n",
       "      <td>15</td>\n",
       "      <td>4.0</td>\n",
       "      <td>3.599609</td>\n",
       "    </tr>\n",
       "    <tr>\n",
       "      <th>Dates</th>\n",
       "      <td>10</td>\n",
       "      <td>5.0</td>\n",
       "      <td>4.500000</td>\n",
       "    </tr>\n",
       "  </tbody>\n",
       "</table>\n",
       "</div>"
      ],
      "text/plain": [
       "          Quantity  Original_Price  Sale_Price\n",
       "Apples          20             3.0    2.699219\n",
       "Bananas         30             2.0    1.799805\n",
       "Cherries        15             4.0    3.599609\n",
       "Dates           10             5.0    4.500000"
      ]
     },
     "execution_count": 52,
     "metadata": {},
     "output_type": "execute_result"
    }
   ],
   "source": [
    "df_read"
   ]
  },
  {
   "cell_type": "markdown",
   "id": "bb01c1b8",
   "metadata": {},
   "source": [
    "---"
   ]
  },
  {
   "cell_type": "markdown",
   "id": "0b8767e9",
   "metadata": {},
   "source": [
    "Let's say you found that the quantity of Grapes is missing in your DataFrame.\n",
    "\n",
    "- Add a new row for Grapes with a missing quantity. You can add this row by creating a new DataFrame with the details of Grapes and then appending it to the existing DataFrame.\n",
    "\n",
    "To add a new row you can use the following example:\n",
    "\n",
    "import numpy as np\n",
    "\n",
    "new_data = pd.DataFrame({\"Fruit\": [\"Grapes\"], \"Quantity\": [np.nan], \"Price\": [3.5]})\n",
    "df = pd.concat([df, new_data], ignore_index=True) # pd.concat adds a new row\n",
    "- Check if there are any missing values in the Quantitycolumn."
   ]
  },
  {
   "cell_type": "code",
   "execution_count": 68,
   "id": "7609cd14",
   "metadata": {},
   "outputs": [
    {
     "data": {
      "text/html": [
       "<div>\n",
       "<style scoped>\n",
       "    .dataframe tbody tr th:only-of-type {\n",
       "        vertical-align: middle;\n",
       "    }\n",
       "\n",
       "    .dataframe tbody tr th {\n",
       "        vertical-align: top;\n",
       "    }\n",
       "\n",
       "    .dataframe thead th {\n",
       "        text-align: right;\n",
       "    }\n",
       "</style>\n",
       "<table border=\"1\" class=\"dataframe\">\n",
       "  <thead>\n",
       "    <tr style=\"text-align: right;\">\n",
       "      <th></th>\n",
       "      <th>Quantity</th>\n",
       "      <th>Original_Price</th>\n",
       "      <th>Sale_Price</th>\n",
       "    </tr>\n",
       "  </thead>\n",
       "  <tbody>\n",
       "    <tr>\n",
       "      <th>Apples</th>\n",
       "      <td>20</td>\n",
       "      <td>3.0</td>\n",
       "      <td>2.699219</td>\n",
       "    </tr>\n",
       "    <tr>\n",
       "      <th>Bananas</th>\n",
       "      <td>30</td>\n",
       "      <td>2.0</td>\n",
       "      <td>1.799805</td>\n",
       "    </tr>\n",
       "    <tr>\n",
       "      <th>Cherries</th>\n",
       "      <td>15</td>\n",
       "      <td>4.0</td>\n",
       "      <td>3.599609</td>\n",
       "    </tr>\n",
       "    <tr>\n",
       "      <th>Dates</th>\n",
       "      <td>10</td>\n",
       "      <td>5.0</td>\n",
       "      <td>4.500000</td>\n",
       "    </tr>\n",
       "  </tbody>\n",
       "</table>\n",
       "</div>"
      ],
      "text/plain": [
       "          Quantity  Original_Price  Sale_Price\n",
       "Apples          20             3.0    2.699219\n",
       "Bananas         30             2.0    1.799805\n",
       "Cherries        15             4.0    3.599609\n",
       "Dates           10             5.0    4.500000"
      ]
     },
     "execution_count": 68,
     "metadata": {},
     "output_type": "execute_result"
    }
   ],
   "source": [
    "df_read"
   ]
  },
  {
   "cell_type": "code",
   "execution_count": 53,
   "id": "855d64d3",
   "metadata": {},
   "outputs": [],
   "source": [
    "new_data = pd.DataFrame({\"Fruit\": [\"Grapes\"],\n",
    "                         \"Quantity\": [np.nan],\n",
    "                         \"Original_Price\": [3.5],\n",
    "                         \"Sale_Price\": [3.5 * 0.9]})"
   ]
  },
  {
   "cell_type": "code",
   "execution_count": 56,
   "id": "f98fcca5",
   "metadata": {},
   "outputs": [
    {
     "data": {
      "text/html": [
       "<div>\n",
       "<style scoped>\n",
       "    .dataframe tbody tr th:only-of-type {\n",
       "        vertical-align: middle;\n",
       "    }\n",
       "\n",
       "    .dataframe tbody tr th {\n",
       "        vertical-align: top;\n",
       "    }\n",
       "\n",
       "    .dataframe thead th {\n",
       "        text-align: right;\n",
       "    }\n",
       "</style>\n",
       "<table border=\"1\" class=\"dataframe\">\n",
       "  <thead>\n",
       "    <tr style=\"text-align: right;\">\n",
       "      <th></th>\n",
       "      <th>Fruit</th>\n",
       "      <th>Quantity</th>\n",
       "      <th>Original_Price</th>\n",
       "      <th>Sale_Price</th>\n",
       "    </tr>\n",
       "  </thead>\n",
       "  <tbody>\n",
       "    <tr>\n",
       "      <th>0</th>\n",
       "      <td>Grapes</td>\n",
       "      <td>NaN</td>\n",
       "      <td>3.5</td>\n",
       "      <td>3.15</td>\n",
       "    </tr>\n",
       "  </tbody>\n",
       "</table>\n",
       "</div>"
      ],
      "text/plain": [
       "    Fruit  Quantity  Original_Price  Sale_Price\n",
       "0  Grapes       NaN             3.5        3.15"
      ]
     },
     "execution_count": 56,
     "metadata": {},
     "output_type": "execute_result"
    }
   ],
   "source": [
    "new_data"
   ]
  },
  {
   "cell_type": "code",
   "execution_count": 59,
   "id": "ccc01982",
   "metadata": {},
   "outputs": [],
   "source": [
    "new_data.set_index('Fruit', inplace=True)"
   ]
  },
  {
   "cell_type": "code",
   "execution_count": 64,
   "id": "f0d184ac",
   "metadata": {},
   "outputs": [],
   "source": [
    "df_with_index = pd.concat([df_read, new_data])"
   ]
  },
  {
   "cell_type": "code",
   "execution_count": 66,
   "id": "f2d7513d",
   "metadata": {},
   "outputs": [
    {
     "data": {
      "text/html": [
       "<div>\n",
       "<style scoped>\n",
       "    .dataframe tbody tr th:only-of-type {\n",
       "        vertical-align: middle;\n",
       "    }\n",
       "\n",
       "    .dataframe tbody tr th {\n",
       "        vertical-align: top;\n",
       "    }\n",
       "\n",
       "    .dataframe thead th {\n",
       "        text-align: right;\n",
       "    }\n",
       "</style>\n",
       "<table border=\"1\" class=\"dataframe\">\n",
       "  <thead>\n",
       "    <tr style=\"text-align: right;\">\n",
       "      <th></th>\n",
       "      <th>Quantity</th>\n",
       "      <th>Original_Price</th>\n",
       "      <th>Sale_Price</th>\n",
       "    </tr>\n",
       "  </thead>\n",
       "  <tbody>\n",
       "    <tr>\n",
       "      <th>Apples</th>\n",
       "      <td>20.0</td>\n",
       "      <td>3.0</td>\n",
       "      <td>2.699219</td>\n",
       "    </tr>\n",
       "    <tr>\n",
       "      <th>Bananas</th>\n",
       "      <td>30.0</td>\n",
       "      <td>2.0</td>\n",
       "      <td>1.799805</td>\n",
       "    </tr>\n",
       "    <tr>\n",
       "      <th>Cherries</th>\n",
       "      <td>15.0</td>\n",
       "      <td>4.0</td>\n",
       "      <td>3.599609</td>\n",
       "    </tr>\n",
       "    <tr>\n",
       "      <th>Dates</th>\n",
       "      <td>10.0</td>\n",
       "      <td>5.0</td>\n",
       "      <td>4.500000</td>\n",
       "    </tr>\n",
       "    <tr>\n",
       "      <th>Grapes</th>\n",
       "      <td>NaN</td>\n",
       "      <td>3.5</td>\n",
       "      <td>3.150000</td>\n",
       "    </tr>\n",
       "  </tbody>\n",
       "</table>\n",
       "</div>"
      ],
      "text/plain": [
       "          Quantity  Original_Price  Sale_Price\n",
       "Apples        20.0             3.0    2.699219\n",
       "Bananas       30.0             2.0    1.799805\n",
       "Cherries      15.0             4.0    3.599609\n",
       "Dates         10.0             5.0    4.500000\n",
       "Grapes         NaN             3.5    3.150000"
      ]
     },
     "execution_count": 66,
     "metadata": {},
     "output_type": "execute_result"
    }
   ],
   "source": [
    "df_with_index"
   ]
  },
  {
   "cell_type": "code",
   "execution_count": 65,
   "id": "d12055f9",
   "metadata": {},
   "outputs": [],
   "source": [
    "df_no_index = pd.concat([df_read, new_data], ignore_index=True)"
   ]
  },
  {
   "cell_type": "code",
   "execution_count": 67,
   "id": "074bf94e",
   "metadata": {},
   "outputs": [
    {
     "data": {
      "text/html": [
       "<div>\n",
       "<style scoped>\n",
       "    .dataframe tbody tr th:only-of-type {\n",
       "        vertical-align: middle;\n",
       "    }\n",
       "\n",
       "    .dataframe tbody tr th {\n",
       "        vertical-align: top;\n",
       "    }\n",
       "\n",
       "    .dataframe thead th {\n",
       "        text-align: right;\n",
       "    }\n",
       "</style>\n",
       "<table border=\"1\" class=\"dataframe\">\n",
       "  <thead>\n",
       "    <tr style=\"text-align: right;\">\n",
       "      <th></th>\n",
       "      <th>Quantity</th>\n",
       "      <th>Original_Price</th>\n",
       "      <th>Sale_Price</th>\n",
       "    </tr>\n",
       "  </thead>\n",
       "  <tbody>\n",
       "    <tr>\n",
       "      <th>0</th>\n",
       "      <td>20.0</td>\n",
       "      <td>3.0</td>\n",
       "      <td>2.699219</td>\n",
       "    </tr>\n",
       "    <tr>\n",
       "      <th>1</th>\n",
       "      <td>30.0</td>\n",
       "      <td>2.0</td>\n",
       "      <td>1.799805</td>\n",
       "    </tr>\n",
       "    <tr>\n",
       "      <th>2</th>\n",
       "      <td>15.0</td>\n",
       "      <td>4.0</td>\n",
       "      <td>3.599609</td>\n",
       "    </tr>\n",
       "    <tr>\n",
       "      <th>3</th>\n",
       "      <td>10.0</td>\n",
       "      <td>5.0</td>\n",
       "      <td>4.500000</td>\n",
       "    </tr>\n",
       "    <tr>\n",
       "      <th>4</th>\n",
       "      <td>NaN</td>\n",
       "      <td>3.5</td>\n",
       "      <td>3.150000</td>\n",
       "    </tr>\n",
       "  </tbody>\n",
       "</table>\n",
       "</div>"
      ],
      "text/plain": [
       "   Quantity  Original_Price  Sale_Price\n",
       "0      20.0             3.0    2.699219\n",
       "1      30.0             2.0    1.799805\n",
       "2      15.0             4.0    3.599609\n",
       "3      10.0             5.0    4.500000\n",
       "4       NaN             3.5    3.150000"
      ]
     },
     "execution_count": 67,
     "metadata": {},
     "output_type": "execute_result"
    }
   ],
   "source": [
    "df_no_index"
   ]
  },
  {
   "cell_type": "markdown",
   "id": "dc5bd38d",
   "metadata": {},
   "source": [
    "---"
   ]
  },
  {
   "cell_type": "markdown",
   "id": "aaa942e7",
   "metadata": {},
   "source": [
    "Check the data type of the Quantity column using df['Quantity'].dtype. If it is not integer, convert it using astype()."
   ]
  },
  {
   "cell_type": "code",
   "execution_count": 69,
   "id": "06ad1628",
   "metadata": {},
   "outputs": [
    {
     "data": {
      "text/plain": [
       "dtype('int64')"
      ]
     },
     "execution_count": 69,
     "metadata": {},
     "output_type": "execute_result"
    }
   ],
   "source": [
    "df_read['Quantity'].dtype"
   ]
  },
  {
   "cell_type": "code",
   "execution_count": 72,
   "id": "fba52a69",
   "metadata": {},
   "outputs": [
    {
     "data": {
      "text/plain": [
       "Apples      20\n",
       "Bananas     30\n",
       "Cherries    15\n",
       "Dates       10\n",
       "Name: Quantity, dtype: int64"
      ]
     },
     "execution_count": 72,
     "metadata": {},
     "output_type": "execute_result"
    }
   ],
   "source": [
    "df_read['Quantity'].astype('float16')"
   ]
  },
  {
   "cell_type": "markdown",
   "id": "664b3d22",
   "metadata": {},
   "source": [
    "---"
   ]
  },
  {
   "cell_type": "markdown",
   "id": "6285318e",
   "metadata": {},
   "source": [
    "9. Calculate the following:\n",
    "\n",
    "- The total quantity of all fruits.\n",
    "\n",
    "- The name and quantity of the fruit with the highest quantity.\n",
    "\n",
    "- The name and quantity of the fruit with the lowest quantity.\n",
    "\n",
    "- The average original price per kg of fruits.\n",
    "\n",
    "Hint: For the second and third bullet points, consider using the idxmax() or idxmin() functions, or boolean indexing.\n",
    "\n"
   ]
  },
  {
   "cell_type": "code",
   "execution_count": 73,
   "id": "ab8bfce2",
   "metadata": {},
   "outputs": [
    {
     "data": {
      "text/plain": [
       "75"
      ]
     },
     "execution_count": 73,
     "metadata": {},
     "output_type": "execute_result"
    }
   ],
   "source": [
    "df_read['Quantity'].sum()"
   ]
  },
  {
   "cell_type": "code",
   "execution_count": 74,
   "id": "8ca139e0",
   "metadata": {},
   "outputs": [
    {
     "data": {
      "text/html": [
       "<div>\n",
       "<style scoped>\n",
       "    .dataframe tbody tr th:only-of-type {\n",
       "        vertical-align: middle;\n",
       "    }\n",
       "\n",
       "    .dataframe tbody tr th {\n",
       "        vertical-align: top;\n",
       "    }\n",
       "\n",
       "    .dataframe thead th {\n",
       "        text-align: right;\n",
       "    }\n",
       "</style>\n",
       "<table border=\"1\" class=\"dataframe\">\n",
       "  <thead>\n",
       "    <tr style=\"text-align: right;\">\n",
       "      <th></th>\n",
       "      <th>Quantity</th>\n",
       "      <th>Original_Price</th>\n",
       "      <th>Sale_Price</th>\n",
       "    </tr>\n",
       "  </thead>\n",
       "  <tbody>\n",
       "    <tr>\n",
       "      <th>Bananas</th>\n",
       "      <td>30</td>\n",
       "      <td>2.0</td>\n",
       "      <td>1.799805</td>\n",
       "    </tr>\n",
       "  </tbody>\n",
       "</table>\n",
       "</div>"
      ],
      "text/plain": [
       "         Quantity  Original_Price  Sale_Price\n",
       "Bananas        30             2.0    1.799805"
      ]
     },
     "execution_count": 74,
     "metadata": {},
     "output_type": "execute_result"
    }
   ],
   "source": [
    "df_read.nlargest(1 ,'Quantity')"
   ]
  },
  {
   "cell_type": "code",
   "execution_count": 77,
   "id": "9d355c1f",
   "metadata": {},
   "outputs": [
    {
     "data": {
      "text/plain": [
       "'Dates'"
      ]
     },
     "execution_count": 77,
     "metadata": {},
     "output_type": "execute_result"
    }
   ],
   "source": [
    "df_read['Quantity'].idxmin() # returns the index of the item with lowest quantity"
   ]
  },
  {
   "cell_type": "code",
   "execution_count": 78,
   "id": "fda2835e",
   "metadata": {},
   "outputs": [
    {
     "data": {
      "text/plain": [
       "'Bananas'"
      ]
     },
     "execution_count": 78,
     "metadata": {},
     "output_type": "execute_result"
    }
   ],
   "source": [
    "df_read['Quantity'].idxmax() # returns the index of the item with highest quantity"
   ]
  },
  {
   "cell_type": "code",
   "execution_count": null,
   "id": "45146a91",
   "metadata": {},
   "outputs": [],
   "source": []
  }
 ],
 "metadata": {
  "kernelspec": {
   "display_name": "Python 3 (ipykernel)",
   "language": "python",
   "name": "python3"
  },
  "language_info": {
   "codemirror_mode": {
    "name": "ipython",
    "version": 3
   },
   "file_extension": ".py",
   "mimetype": "text/x-python",
   "name": "python",
   "nbconvert_exporter": "python",
   "pygments_lexer": "ipython3",
   "version": "3.11.0"
  }
 },
 "nbformat": 4,
 "nbformat_minor": 5
}
