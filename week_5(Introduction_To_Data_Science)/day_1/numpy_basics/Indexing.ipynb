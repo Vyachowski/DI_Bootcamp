{
 "cells": [
  {
   "cell_type": "code",
   "execution_count": 1,
   "id": "c2d6aa26",
   "metadata": {},
   "outputs": [],
   "source": [
    "import numpy as np"
   ]
  },
  {
   "cell_type": "markdown",
   "id": "86e76376",
   "metadata": {},
   "source": [
    "## One dimsional indexing"
   ]
  },
  {
   "cell_type": "code",
   "execution_count": 2,
   "id": "f9426b57",
   "metadata": {},
   "outputs": [],
   "source": [
    "one_dim_array = np.arange(11)"
   ]
  },
  {
   "cell_type": "code",
   "execution_count": 3,
   "id": "85976f6e",
   "metadata": {},
   "outputs": [
    {
     "data": {
      "text/plain": [
       "array([ 0,  1,  2,  3,  4,  5,  6,  7,  8,  9, 10])"
      ]
     },
     "execution_count": 3,
     "metadata": {},
     "output_type": "execute_result"
    }
   ],
   "source": [
    "one_dim_array"
   ]
  },
  {
   "cell_type": "code",
   "execution_count": 4,
   "id": "e208a7bc",
   "metadata": {},
   "outputs": [
    {
     "data": {
      "text/plain": [
       "0"
      ]
     },
     "execution_count": 4,
     "metadata": {},
     "output_type": "execute_result"
    }
   ],
   "source": [
    "one_dim_array[0] # first"
   ]
  },
  {
   "cell_type": "code",
   "execution_count": 5,
   "id": "a0116ab0",
   "metadata": {},
   "outputs": [
    {
     "data": {
      "text/plain": [
       "10"
      ]
     },
     "execution_count": 5,
     "metadata": {},
     "output_type": "execute_result"
    }
   ],
   "source": [
    "one_dim_array[-1] # last"
   ]
  },
  {
   "cell_type": "code",
   "execution_count": 6,
   "id": "fef87b78",
   "metadata": {},
   "outputs": [
    {
     "data": {
      "text/plain": [
       "array([1, 2, 3, 4])"
      ]
     },
     "execution_count": 6,
     "metadata": {},
     "output_type": "execute_result"
    }
   ],
   "source": [
    "one_dim_array[1:5]"
   ]
  },
  {
   "cell_type": "code",
   "execution_count": 7,
   "id": "d5d52e3e",
   "metadata": {},
   "outputs": [
    {
     "data": {
      "text/plain": [
       "array([ 2,  4,  6,  8, 10])"
      ]
     },
     "execution_count": 7,
     "metadata": {},
     "output_type": "execute_result"
    }
   ],
   "source": [
    "one_dim_array[2::2] # [start:end:step]\n",
    "# array([ 0,  1,  2,  3,  4,  5,  6,  7,  8,  9, 10])"
   ]
  },
  {
   "cell_type": "markdown",
   "id": "ef7bb3ea",
   "metadata": {},
   "source": [
    "## Two dimsional indexing"
   ]
  },
  {
   "cell_type": "code",
   "execution_count": 8,
   "id": "5184fe04",
   "metadata": {},
   "outputs": [],
   "source": [
    "two_dim_array = np.arange(10)"
   ]
  },
  {
   "cell_type": "code",
   "execution_count": 9,
   "id": "00737707",
   "metadata": {},
   "outputs": [
    {
     "data": {
      "text/plain": [
       "array([0, 1, 2, 3, 4, 5, 6, 7, 8, 9])"
      ]
     },
     "execution_count": 9,
     "metadata": {},
     "output_type": "execute_result"
    }
   ],
   "source": [
    "two_dim_array # 2, 5"
   ]
  },
  {
   "cell_type": "code",
   "execution_count": 10,
   "id": "6ec27c12",
   "metadata": {},
   "outputs": [
    {
     "data": {
      "text/plain": [
       "10"
      ]
     },
     "execution_count": 10,
     "metadata": {},
     "output_type": "execute_result"
    }
   ],
   "source": [
    "two_dim_array.size"
   ]
  },
  {
   "cell_type": "code",
   "execution_count": 11,
   "id": "6e530525",
   "metadata": {},
   "outputs": [
    {
     "data": {
      "text/plain": [
       "array([[0, 1, 2, 3, 4],\n",
       "       [5, 6, 7, 8, 9]])"
      ]
     },
     "execution_count": 11,
     "metadata": {},
     "output_type": "execute_result"
    }
   ],
   "source": [
    "two_dim_array.reshape((2,5))"
   ]
  },
  {
   "cell_type": "code",
   "execution_count": 13,
   "id": "c0b53e4b",
   "metadata": {},
   "outputs": [],
   "source": [
    "two_dim_array = two_dim_array.reshape((5,2))"
   ]
  },
  {
   "cell_type": "code",
   "execution_count": 14,
   "id": "ca193847",
   "metadata": {},
   "outputs": [
    {
     "data": {
      "text/plain": [
       "array([[0, 1],\n",
       "       [2, 3],\n",
       "       [4, 5],\n",
       "       [6, 7],\n",
       "       [8, 9]])"
      ]
     },
     "execution_count": 14,
     "metadata": {},
     "output_type": "execute_result"
    }
   ],
   "source": [
    "two_dim_array"
   ]
  },
  {
   "cell_type": "code",
   "execution_count": 16,
   "id": "e87b9dd8",
   "metadata": {},
   "outputs": [
    {
     "data": {
      "text/plain": [
       "array([[2, 3],\n",
       "       [4, 5]])"
      ]
     },
     "execution_count": 16,
     "metadata": {},
     "output_type": "execute_result"
    }
   ],
   "source": [
    "two_dim_array[1:3] # indexing through rows"
   ]
  },
  {
   "cell_type": "code",
   "execution_count": 17,
   "id": "198acd1a",
   "metadata": {},
   "outputs": [
    {
     "data": {
      "text/plain": [
       "array([2, 4])"
      ]
     },
     "execution_count": 17,
     "metadata": {},
     "output_type": "execute_result"
    }
   ],
   "source": [
    "two_dim_array[1:3, 0] # indexing through rows + taking the 1st item"
   ]
  },
  {
   "cell_type": "code",
   "execution_count": 19,
   "id": "42731e8b",
   "metadata": {},
   "outputs": [
    {
     "data": {
      "text/plain": [
       "array([[0, 1],\n",
       "       [2, 3],\n",
       "       [4, 5],\n",
       "       [6, 7],\n",
       "       [8, 9]])"
      ]
     },
     "execution_count": 19,
     "metadata": {},
     "output_type": "execute_result"
    }
   ],
   "source": [
    "two_dim_array"
   ]
  },
  {
   "cell_type": "code",
   "execution_count": 20,
   "id": "65302c12",
   "metadata": {},
   "outputs": [
    {
     "data": {
      "text/plain": [
       "array([[8, 9],\n",
       "       [6, 7],\n",
       "       [4, 5],\n",
       "       [2, 3],\n",
       "       [0, 1]])"
      ]
     },
     "execution_count": 20,
     "metadata": {},
     "output_type": "execute_result"
    }
   ],
   "source": [
    "two_dim_array[::-1] # reversing the array"
   ]
  },
  {
   "cell_type": "markdown",
   "id": "ee18988f",
   "metadata": {},
   "source": [
    "## Exercises"
   ]
  },
  {
   "cell_type": "code",
   "execution_count": 21,
   "id": "bd6649d6",
   "metadata": {},
   "outputs": [
    {
     "data": {
      "text/plain": [
       "13"
      ]
     },
     "execution_count": 21,
     "metadata": {},
     "output_type": "execute_result"
    }
   ],
   "source": [
    "# 1. Indexing a 1D array: Create a 1D NumPy array with the numbers from 10 to 20 (inclusive). \n",
    "# Access and print the element at index 3. \n",
    "array1 = np.arange(10, 21)\n",
    "array1[3]"
   ]
  },
  {
   "cell_type": "code",
   "execution_count": 22,
   "id": "a8790148",
   "metadata": {},
   "outputs": [
    {
     "data": {
      "text/plain": [
       "6"
      ]
     },
     "execution_count": 22,
     "metadata": {},
     "output_type": "execute_result"
    }
   ],
   "source": [
    "# 2. Indexing a 2D array: Create a 2D NumPy array with the following values: \n",
    "# array_2d = np.array([[1, 2, 3], [4, 5, 6], [7, 8, 9]]).\n",
    "# Access and print the element at row 1 and column 2. \n",
    "array_2d = np.array([[1, 2, 3], [4, 5, 6], [7, 8, 9]])\n",
    "array_2d[1, 2]"
   ]
  },
  {
   "cell_type": "code",
   "execution_count": 23,
   "id": "19eab6f3",
   "metadata": {},
   "outputs": [
    {
     "data": {
      "text/plain": [
       "array([2, 3, 4, 5])"
      ]
     },
     "execution_count": 23,
     "metadata": {},
     "output_type": "execute_result"
    }
   ],
   "source": [
    "# 3. Slicing a 1D array: Create a 1D NumPy array with the numbers from 0 to 9 (inclusive).\n",
    "# Slice the array to extract the elements from index 2 to index 6 (excluding index 6).\n",
    "# Print the resulting slice. \n",
    "array2 = np.arange(0, 10)\n",
    "array2[2:6]"
   ]
  },
  {
   "cell_type": "code",
   "execution_count": 25,
   "id": "ea7c4a5d",
   "metadata": {},
   "outputs": [
    {
     "data": {
      "text/plain": [
       "array([[2, 3],\n",
       "       [5, 6]])"
      ]
     },
     "execution_count": 25,
     "metadata": {},
     "output_type": "execute_result"
    }
   ],
   "source": [
    "# 4. Slicing a 2D array: Create a 2D NumPy array with the following values:\n",
    "# array_2d = np.array([[1, 2, 3], [4, 5, 6], [7, 8, 9]]).\n",
    "# Slice the array to extract the subarray consisting of the first two rows and the last two columns.\n",
    "# Print the resulting subarray.\n",
    "array_2d = np.array([[1, 2, 3], [4, 5, 6], [7, 8, 9]])\n",
    "array_2d[:2, 1:]"
   ]
  },
  {
   "cell_type": "code",
   "execution_count": null,
   "id": "24f9b46d",
   "metadata": {},
   "outputs": [],
   "source": []
  }
 ],
 "metadata": {
  "kernelspec": {
   "display_name": "Python 3 (ipykernel)",
   "language": "python",
   "name": "python3"
  },
  "language_info": {
   "codemirror_mode": {
    "name": "ipython",
    "version": 3
   },
   "file_extension": ".py",
   "mimetype": "text/x-python",
   "name": "python",
   "nbconvert_exporter": "python",
   "pygments_lexer": "ipython3",
   "version": "3.11.0"
  }
 },
 "nbformat": 4,
 "nbformat_minor": 5
}
